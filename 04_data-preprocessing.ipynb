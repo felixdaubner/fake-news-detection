{
 "cells": [
  {
   "cell_type": "markdown",
   "metadata": {},
   "source": [
    "# Final Project: Fake News Detection\n",
    "\n",
    "By Felix Daubner - Hochschule der Medien\n",
    "\n",
    "Module 'Supervised and Unsupervised Learning' - Prof. Dr.-Ing. Johannes Maucher"
   ]
  },
  {
   "cell_type": "markdown",
   "metadata": {},
   "source": [
    "## Data Preprocessing"
   ]
  },
  {
   "cell_type": "code",
   "execution_count": 1,
   "metadata": {},
   "outputs": [],
   "source": [
    "import pandas as pd\n",
    "import numpy as np"
   ]
  },
  {
   "cell_type": "markdown",
   "metadata": {},
   "source": [
    "Currently, it's not possible to train a machine learning model using the dataset as in [data understanding](03_data-understanding.ipynb). There are some steps which have to be done before, such as:\n",
    "- Binarize and encode truth-column\n",
    "- Convert text (string) to tokens\n",
    "- Pad all sequences to the same length"
   ]
  },
  {
   "cell_type": "code",
   "execution_count": 5,
   "metadata": {},
   "outputs": [],
   "source": [
    "data = pd.read_csv(\"data/scraped.csv\", sep=\";\", index_col=0)"
   ]
  },
  {
   "cell_type": "code",
   "execution_count": 6,
   "metadata": {},
   "outputs": [
    {
     "data": {
      "text/html": [
       "<div>\n",
       "<style scoped>\n",
       "    .dataframe tbody tr th:only-of-type {\n",
       "        vertical-align: middle;\n",
       "    }\n",
       "\n",
       "    .dataframe tbody tr th {\n",
       "        vertical-align: top;\n",
       "    }\n",
       "\n",
       "    .dataframe thead th {\n",
       "        text-align: right;\n",
       "    }\n",
       "</style>\n",
       "<table border=\"1\" class=\"dataframe\">\n",
       "  <thead>\n",
       "    <tr style=\"text-align: right;\">\n",
       "      <th></th>\n",
       "      <th>statement</th>\n",
       "      <th>issue</th>\n",
       "      <th>truth</th>\n",
       "    </tr>\n",
       "  </thead>\n",
       "  <tbody>\n",
       "    <tr>\n",
       "      <th>0</th>\n",
       "      <td>Says Sen. Bob Casey, D-Pa., “is trying to chan...</td>\n",
       "      <td>2024-senate-elections</td>\n",
       "      <td>false</td>\n",
       "    </tr>\n",
       "    <tr>\n",
       "      <th>1</th>\n",
       "      <td>Says the election results are suspicious becau...</td>\n",
       "      <td>2024-senate-elections</td>\n",
       "      <td>false</td>\n",
       "    </tr>\n",
       "    <tr>\n",
       "      <th>2</th>\n",
       "      <td>A “ballot dump” around 4 a.m. in Milwaukee sho...</td>\n",
       "      <td>2024-senate-elections</td>\n",
       "      <td>pants-fire</td>\n",
       "    </tr>\n",
       "    <tr>\n",
       "      <th>3</th>\n",
       "      <td>“Kari Lake is threatening Social Security and ...</td>\n",
       "      <td>2024-senate-elections</td>\n",
       "      <td>half-true</td>\n",
       "    </tr>\n",
       "    <tr>\n",
       "      <th>4</th>\n",
       "      <td>Republican Senate candidate Sam Brown “wants t...</td>\n",
       "      <td>2024-senate-elections</td>\n",
       "      <td>half-true</td>\n",
       "    </tr>\n",
       "  </tbody>\n",
       "</table>\n",
       "</div>"
      ],
      "text/plain": [
       "                                           statement                  issue  \\\n",
       "0  Says Sen. Bob Casey, D-Pa., “is trying to chan...  2024-senate-elections   \n",
       "1  Says the election results are suspicious becau...  2024-senate-elections   \n",
       "2  A “ballot dump” around 4 a.m. in Milwaukee sho...  2024-senate-elections   \n",
       "3  “Kari Lake is threatening Social Security and ...  2024-senate-elections   \n",
       "4  Republican Senate candidate Sam Brown “wants t...  2024-senate-elections   \n",
       "\n",
       "        truth  \n",
       "0       false  \n",
       "1       false  \n",
       "2  pants-fire  \n",
       "3   half-true  \n",
       "4   half-true  "
      ]
     },
     "execution_count": 6,
     "metadata": {},
     "output_type": "execute_result"
    }
   ],
   "source": [
    "data.head()"
   ]
  },
  {
   "cell_type": "markdown",
   "metadata": {},
   "source": [
    "#### Binarization of 'truth'"
   ]
  },
  {
   "cell_type": "code",
   "execution_count": 8,
   "metadata": {},
   "outputs": [
    {
     "data": {
      "text/plain": [
       "array(['false', 'pants-fire', 'half-true', 'barely-true', 'mostly-true',\n",
       "       'true', 'half-flip', 'full-flop', 'no-flip'], dtype=object)"
      ]
     },
     "execution_count": 8,
     "metadata": {},
     "output_type": "execute_result"
    }
   ],
   "source": [
    "data[\"truth\"].unique()"
   ]
  },
  {
   "cell_type": "code",
   "execution_count": 23,
   "metadata": {},
   "outputs": [],
   "source": [
    "true = [\"true\", \"mostly-true\", \"half-true\"]\n",
    "false = [\"barely-true\", \"false\", \"pants-fire\"]\n",
    "flip = [\"full-flop\", \"half-flip\", \"no-flip\"]"
   ]
  },
  {
   "cell_type": "code",
   "execution_count": 24,
   "metadata": {},
   "outputs": [],
   "source": [
    "data_dropped = data[~data[\"truth\"].isin(flip)]"
   ]
  },
  {
   "cell_type": "code",
   "execution_count": 25,
   "metadata": {},
   "outputs": [
    {
     "data": {
      "text/plain": [
       "array(['false', 'pants-fire', 'half-true', 'barely-true', 'mostly-true',\n",
       "       'true'], dtype=object)"
      ]
     },
     "execution_count": 25,
     "metadata": {},
     "output_type": "execute_result"
    }
   ],
   "source": [
    "data_dropped[\"truth\"].unique()"
   ]
  },
  {
   "cell_type": "code",
   "execution_count": 29,
   "metadata": {},
   "outputs": [],
   "source": [
    "data_binary = data_dropped.copy()\n",
    "data_binary[\"truth\"] = data_binary[\"truth\"].replace(true, 1)\n",
    "data_binary[\"truth\"] = data_binary[\"truth\"].replace(false, 0)"
   ]
  },
  {
   "cell_type": "code",
   "execution_count": 30,
   "metadata": {},
   "outputs": [
    {
     "data": {
      "text/plain": [
       "0    10632\n",
       "1     6134\n",
       "Name: truth, dtype: int64"
      ]
     },
     "execution_count": 30,
     "metadata": {},
     "output_type": "execute_result"
    }
   ],
   "source": [
    "data_binary[\"truth\"].value_counts()"
   ]
  },
  {
   "cell_type": "code",
   "execution_count": 31,
   "metadata": {},
   "outputs": [
    {
     "data": {
      "text/plain": [
       "dtype('int64')"
      ]
     },
     "execution_count": 31,
     "metadata": {},
     "output_type": "execute_result"
    }
   ],
   "source": [
    "data_binary[\"truth\"].dtype"
   ]
  },
  {
   "cell_type": "markdown",
   "metadata": {},
   "source": [
    "#### Tokenization of 'statement'"
   ]
  },
  {
   "cell_type": "markdown",
   "metadata": {},
   "source": [
    "..."
   ]
  },
  {
   "cell_type": "code",
   "execution_count": 33,
   "metadata": {},
   "outputs": [],
   "source": [
    "data_binary[\"statement\"] = data_binary[\"statement\"].str.lower().str.replace(r'[^a-zA-Z0-9 ]',\"\", regex=True).astype(\"str\")"
   ]
  },
  {
   "cell_type": "code",
   "execution_count": 34,
   "metadata": {},
   "outputs": [
    {
     "data": {
      "text/html": [
       "<div>\n",
       "<style scoped>\n",
       "    .dataframe tbody tr th:only-of-type {\n",
       "        vertical-align: middle;\n",
       "    }\n",
       "\n",
       "    .dataframe tbody tr th {\n",
       "        vertical-align: top;\n",
       "    }\n",
       "\n",
       "    .dataframe thead th {\n",
       "        text-align: right;\n",
       "    }\n",
       "</style>\n",
       "<table border=\"1\" class=\"dataframe\">\n",
       "  <thead>\n",
       "    <tr style=\"text-align: right;\">\n",
       "      <th></th>\n",
       "      <th>statement</th>\n",
       "      <th>issue</th>\n",
       "      <th>truth</th>\n",
       "    </tr>\n",
       "  </thead>\n",
       "  <tbody>\n",
       "    <tr>\n",
       "      <th>0</th>\n",
       "      <td>says sen bob casey dpa is trying to change the...</td>\n",
       "      <td>2024-senate-elections</td>\n",
       "      <td>0</td>\n",
       "    </tr>\n",
       "    <tr>\n",
       "      <th>1</th>\n",
       "      <td>says the election results are suspicious becau...</td>\n",
       "      <td>2024-senate-elections</td>\n",
       "      <td>0</td>\n",
       "    </tr>\n",
       "    <tr>\n",
       "      <th>2</th>\n",
       "      <td>a ballot dump around 4 am in milwaukee shows t...</td>\n",
       "      <td>2024-senate-elections</td>\n",
       "      <td>0</td>\n",
       "    </tr>\n",
       "    <tr>\n",
       "      <th>3</th>\n",
       "      <td>kari lake is threatening social security and m...</td>\n",
       "      <td>2024-senate-elections</td>\n",
       "      <td>1</td>\n",
       "    </tr>\n",
       "    <tr>\n",
       "      <th>4</th>\n",
       "      <td>republican senate candidate sam brown wants to...</td>\n",
       "      <td>2024-senate-elections</td>\n",
       "      <td>1</td>\n",
       "    </tr>\n",
       "    <tr>\n",
       "      <th>...</th>\n",
       "      <td>...</td>\n",
       "      <td>...</td>\n",
       "      <td>...</td>\n",
       "    </tr>\n",
       "    <tr>\n",
       "      <th>16921</th>\n",
       "      <td>missouri is the state with the lowest paid wor...</td>\n",
       "      <td>workers</td>\n",
       "      <td>1</td>\n",
       "    </tr>\n",
       "    <tr>\n",
       "      <th>16922</th>\n",
       "      <td>in 2009  hillary clinton was at the state depa...</td>\n",
       "      <td>workers</td>\n",
       "      <td>1</td>\n",
       "    </tr>\n",
       "    <tr>\n",
       "      <th>16923</th>\n",
       "      <td>says bernie sanders fundamentally changed the ...</td>\n",
       "      <td>workers</td>\n",
       "      <td>1</td>\n",
       "    </tr>\n",
       "    <tr>\n",
       "      <th>16924</th>\n",
       "      <td>we work longer hours than any people in the in...</td>\n",
       "      <td>workers</td>\n",
       "      <td>0</td>\n",
       "    </tr>\n",
       "    <tr>\n",
       "      <th>16925</th>\n",
       "      <td>says she will work to raise the federal minimu...</td>\n",
       "      <td>workers</td>\n",
       "      <td>1</td>\n",
       "    </tr>\n",
       "  </tbody>\n",
       "</table>\n",
       "<p>16766 rows × 3 columns</p>\n",
       "</div>"
      ],
      "text/plain": [
       "                                               statement  \\\n",
       "0      says sen bob casey dpa is trying to change the...   \n",
       "1      says the election results are suspicious becau...   \n",
       "2      a ballot dump around 4 am in milwaukee shows t...   \n",
       "3      kari lake is threatening social security and m...   \n",
       "4      republican senate candidate sam brown wants to...   \n",
       "...                                                  ...   \n",
       "16921  missouri is the state with the lowest paid wor...   \n",
       "16922  in 2009  hillary clinton was at the state depa...   \n",
       "16923  says bernie sanders fundamentally changed the ...   \n",
       "16924  we work longer hours than any people in the in...   \n",
       "16925  says she will work to raise the federal minimu...   \n",
       "\n",
       "                       issue  truth  \n",
       "0      2024-senate-elections      0  \n",
       "1      2024-senate-elections      0  \n",
       "2      2024-senate-elections      0  \n",
       "3      2024-senate-elections      1  \n",
       "4      2024-senate-elections      1  \n",
       "...                      ...    ...  \n",
       "16921                workers      1  \n",
       "16922                workers      1  \n",
       "16923                workers      1  \n",
       "16924                workers      0  \n",
       "16925                workers      1  \n",
       "\n",
       "[16766 rows x 3 columns]"
      ]
     },
     "execution_count": 34,
     "metadata": {},
     "output_type": "execute_result"
    }
   ],
   "source": [
    "data_binary"
   ]
  },
  {
   "cell_type": "code",
   "execution_count": 35,
   "metadata": {},
   "outputs": [],
   "source": [
    "from tensorflow.keras.preprocessing.text import Tokenizer\n",
    "from tensorflow.keras.preprocessing.sequence import pad_sequences"
   ]
  },
  {
   "cell_type": "code",
   "execution_count": 51,
   "metadata": {},
   "outputs": [],
   "source": [
    "NUM_WORDS=3000"
   ]
  },
  {
   "cell_type": "code",
   "execution_count": 52,
   "metadata": {},
   "outputs": [],
   "source": [
    "token = Tokenizer(num_words=NUM_WORDS)\n",
    "statements = data_binary[\"statement\"].to_list()\n",
    "token.fit_on_texts(statements)\n",
    "data_binary[\"token\"] = token.texts_to_sequences(statements)"
   ]
  },
  {
   "cell_type": "code",
   "execution_count": 53,
   "metadata": {},
   "outputs": [
    {
     "data": {
      "text/html": [
       "<div>\n",
       "<style scoped>\n",
       "    .dataframe tbody tr th:only-of-type {\n",
       "        vertical-align: middle;\n",
       "    }\n",
       "\n",
       "    .dataframe tbody tr th {\n",
       "        vertical-align: top;\n",
       "    }\n",
       "\n",
       "    .dataframe thead th {\n",
       "        text-align: right;\n",
       "    }\n",
       "</style>\n",
       "<table border=\"1\" class=\"dataframe\">\n",
       "  <thead>\n",
       "    <tr style=\"text-align: right;\">\n",
       "      <th></th>\n",
       "      <th>statement</th>\n",
       "      <th>issue</th>\n",
       "      <th>truth</th>\n",
       "      <th>token</th>\n",
       "    </tr>\n",
       "  </thead>\n",
       "  <tbody>\n",
       "    <tr>\n",
       "      <th>0</th>\n",
       "      <td>says sen bob casey dpa is trying to change the...</td>\n",
       "      <td>2024-senate-elections</td>\n",
       "      <td>0</td>\n",
       "      <td>[9, 180, 1682, 2513, 8, 482, 2, 262, 1, 4, 1, ...</td>\n",
       "    </tr>\n",
       "    <tr>\n",
       "      <th>1</th>\n",
       "      <td>says the election results are suspicious becau...</td>\n",
       "      <td>2024-senate-elections</td>\n",
       "      <td>0</td>\n",
       "      <td>[9, 1, 189, 2132, 12, 66, 682, 27, 180, 702, 7...</td>\n",
       "    </tr>\n",
       "    <tr>\n",
       "      <th>2</th>\n",
       "      <td>a ballot dump around 4 am in milwaukee shows t...</td>\n",
       "      <td>2024-senate-elections</td>\n",
       "      <td>0</td>\n",
       "      <td>[5, 815, 2689, 436, 397, 1238, 3, 260, 48, 1, ...</td>\n",
       "    </tr>\n",
       "    <tr>\n",
       "      <th>3</th>\n",
       "      <td>kari lake is threatening social security and m...</td>\n",
       "      <td>2024-senate-elections</td>\n",
       "      <td>1</td>\n",
       "      <td>[2036, 1210, 8, 2690, 105, 97, 6, 114]</td>\n",
       "    </tr>\n",
       "    <tr>\n",
       "      <th>4</th>\n",
       "      <td>republican senate candidate sam brown wants to...</td>\n",
       "      <td>2024-senate-elections</td>\n",
       "      <td>1</td>\n",
       "      <td>[161, 173, 284, 526, 145, 2, 113, 253, 6, 105,...</td>\n",
       "    </tr>\n",
       "    <tr>\n",
       "      <th>...</th>\n",
       "      <td>...</td>\n",
       "      <td>...</td>\n",
       "      <td>...</td>\n",
       "      <td>...</td>\n",
       "    </tr>\n",
       "    <tr>\n",
       "      <th>16921</th>\n",
       "      <td>missouri is the state with the lowest paid wor...</td>\n",
       "      <td>workers</td>\n",
       "      <td>1</td>\n",
       "      <td>[838, 8, 1, 35, 17, 1, 404, 151, 225]</td>\n",
       "    </tr>\n",
       "    <tr>\n",
       "      <th>16922</th>\n",
       "      <td>in 2009  hillary clinton was at the state depa...</td>\n",
       "      <td>workers</td>\n",
       "      <td>1</td>\n",
       "      <td>[3, 840, 202, 150, 15, 29, 1, 35, 271, 420, 17...</td>\n",
       "    </tr>\n",
       "    <tr>\n",
       "      <th>16923</th>\n",
       "      <td>says bernie sanders fundamentally changed the ...</td>\n",
       "      <td>workers</td>\n",
       "      <td>1</td>\n",
       "      <td>[9, 635, 689, 872, 1, 486, 4, 809, 225, 3, 159...</td>\n",
       "    </tr>\n",
       "    <tr>\n",
       "      <th>16924</th>\n",
       "      <td>we work longer hours than any people in the in...</td>\n",
       "      <td>workers</td>\n",
       "      <td>0</td>\n",
       "      <td>[21, 256, 697, 667, 18, 109, 26, 3, 1, 146, 32...</td>\n",
       "    </tr>\n",
       "    <tr>\n",
       "      <th>16925</th>\n",
       "      <td>says she will work to raise the federal minimu...</td>\n",
       "      <td>workers</td>\n",
       "      <td>1</td>\n",
       "      <td>[9, 174, 43, 256, 2, 237, 1, 81, 380, 296, 198...</td>\n",
       "    </tr>\n",
       "  </tbody>\n",
       "</table>\n",
       "<p>16766 rows × 4 columns</p>\n",
       "</div>"
      ],
      "text/plain": [
       "                                               statement  \\\n",
       "0      says sen bob casey dpa is trying to change the...   \n",
       "1      says the election results are suspicious becau...   \n",
       "2      a ballot dump around 4 am in milwaukee shows t...   \n",
       "3      kari lake is threatening social security and m...   \n",
       "4      republican senate candidate sam brown wants to...   \n",
       "...                                                  ...   \n",
       "16921  missouri is the state with the lowest paid wor...   \n",
       "16922  in 2009  hillary clinton was at the state depa...   \n",
       "16923  says bernie sanders fundamentally changed the ...   \n",
       "16924  we work longer hours than any people in the in...   \n",
       "16925  says she will work to raise the federal minimu...   \n",
       "\n",
       "                       issue  truth  \\\n",
       "0      2024-senate-elections      0   \n",
       "1      2024-senate-elections      0   \n",
       "2      2024-senate-elections      0   \n",
       "3      2024-senate-elections      1   \n",
       "4      2024-senate-elections      1   \n",
       "...                      ...    ...   \n",
       "16921                workers      1   \n",
       "16922                workers      1   \n",
       "16923                workers      1   \n",
       "16924                workers      0   \n",
       "16925                workers      1   \n",
       "\n",
       "                                                   token  \n",
       "0      [9, 180, 1682, 2513, 8, 482, 2, 262, 1, 4, 1, ...  \n",
       "1      [9, 1, 189, 2132, 12, 66, 682, 27, 180, 702, 7...  \n",
       "2      [5, 815, 2689, 436, 397, 1238, 3, 260, 48, 1, ...  \n",
       "3                 [2036, 1210, 8, 2690, 105, 97, 6, 114]  \n",
       "4      [161, 173, 284, 526, 145, 2, 113, 253, 6, 105,...  \n",
       "...                                                  ...  \n",
       "16921              [838, 8, 1, 35, 17, 1, 404, 151, 225]  \n",
       "16922  [3, 840, 202, 150, 15, 29, 1, 35, 271, 420, 17...  \n",
       "16923  [9, 635, 689, 872, 1, 486, 4, 809, 225, 3, 159...  \n",
       "16924  [21, 256, 697, 667, 18, 109, 26, 3, 1, 146, 32...  \n",
       "16925  [9, 174, 43, 256, 2, 237, 1, 81, 380, 296, 198...  \n",
       "\n",
       "[16766 rows x 4 columns]"
      ]
     },
     "execution_count": 53,
     "metadata": {},
     "output_type": "execute_result"
    }
   ],
   "source": [
    "data_binary"
   ]
  },
  {
   "cell_type": "code",
   "execution_count": 55,
   "metadata": {},
   "outputs": [
    {
     "data": {
      "text/plain": [
       "57"
      ]
     },
     "execution_count": 55,
     "metadata": {},
     "output_type": "execute_result"
    }
   ],
   "source": [
    "max(data_binary[\"token\"].apply(len))"
   ]
  },
  {
   "cell_type": "markdown",
   "metadata": {},
   "source": [
    "#### Padding of sequences"
   ]
  },
  {
   "cell_type": "code",
   "execution_count": 56,
   "metadata": {},
   "outputs": [],
   "source": [
    "padded = pad_sequences(data_binary[\"token\"].to_list())\n",
    "data_binary[\"token\"] = padded.tolist()"
   ]
  },
  {
   "cell_type": "code",
   "execution_count": 60,
   "metadata": {},
   "outputs": [
    {
     "data": {
      "text/html": [
       "<div>\n",
       "<style scoped>\n",
       "    .dataframe tbody tr th:only-of-type {\n",
       "        vertical-align: middle;\n",
       "    }\n",
       "\n",
       "    .dataframe tbody tr th {\n",
       "        vertical-align: top;\n",
       "    }\n",
       "\n",
       "    .dataframe thead th {\n",
       "        text-align: right;\n",
       "    }\n",
       "</style>\n",
       "<table border=\"1\" class=\"dataframe\">\n",
       "  <thead>\n",
       "    <tr style=\"text-align: right;\">\n",
       "      <th></th>\n",
       "      <th>statement</th>\n",
       "      <th>issue</th>\n",
       "      <th>truth</th>\n",
       "      <th>token</th>\n",
       "    </tr>\n",
       "  </thead>\n",
       "  <tbody>\n",
       "    <tr>\n",
       "      <th>0</th>\n",
       "      <td>says sen bob casey dpa is trying to change the...</td>\n",
       "      <td>2024-senate-elections</td>\n",
       "      <td>0</td>\n",
       "      <td>[0, 0, 0, 0, 0, 0, 0, 0, 0, 0, 0, 0, 0, 0, 0, ...</td>\n",
       "    </tr>\n",
       "    <tr>\n",
       "      <th>1</th>\n",
       "      <td>says the election results are suspicious becau...</td>\n",
       "      <td>2024-senate-elections</td>\n",
       "      <td>0</td>\n",
       "      <td>[0, 0, 0, 0, 0, 0, 0, 0, 0, 0, 0, 0, 0, 0, 0, ...</td>\n",
       "    </tr>\n",
       "    <tr>\n",
       "      <th>2</th>\n",
       "      <td>a ballot dump around 4 am in milwaukee shows t...</td>\n",
       "      <td>2024-senate-elections</td>\n",
       "      <td>0</td>\n",
       "      <td>[0, 0, 0, 0, 0, 0, 0, 0, 0, 0, 0, 0, 0, 0, 0, ...</td>\n",
       "    </tr>\n",
       "    <tr>\n",
       "      <th>3</th>\n",
       "      <td>kari lake is threatening social security and m...</td>\n",
       "      <td>2024-senate-elections</td>\n",
       "      <td>1</td>\n",
       "      <td>[0, 0, 0, 0, 0, 0, 0, 0, 0, 0, 0, 0, 0, 0, 0, ...</td>\n",
       "    </tr>\n",
       "    <tr>\n",
       "      <th>4</th>\n",
       "      <td>republican senate candidate sam brown wants to...</td>\n",
       "      <td>2024-senate-elections</td>\n",
       "      <td>1</td>\n",
       "      <td>[0, 0, 0, 0, 0, 0, 0, 0, 0, 0, 0, 0, 0, 0, 0, ...</td>\n",
       "    </tr>\n",
       "    <tr>\n",
       "      <th>...</th>\n",
       "      <td>...</td>\n",
       "      <td>...</td>\n",
       "      <td>...</td>\n",
       "      <td>...</td>\n",
       "    </tr>\n",
       "    <tr>\n",
       "      <th>16921</th>\n",
       "      <td>missouri is the state with the lowest paid wor...</td>\n",
       "      <td>workers</td>\n",
       "      <td>1</td>\n",
       "      <td>[0, 0, 0, 0, 0, 0, 0, 0, 0, 0, 0, 0, 0, 0, 0, ...</td>\n",
       "    </tr>\n",
       "    <tr>\n",
       "      <th>16922</th>\n",
       "      <td>in 2009  hillary clinton was at the state depa...</td>\n",
       "      <td>workers</td>\n",
       "      <td>1</td>\n",
       "      <td>[0, 0, 0, 0, 0, 0, 0, 0, 0, 0, 0, 0, 0, 0, 0, ...</td>\n",
       "    </tr>\n",
       "    <tr>\n",
       "      <th>16923</th>\n",
       "      <td>says bernie sanders fundamentally changed the ...</td>\n",
       "      <td>workers</td>\n",
       "      <td>1</td>\n",
       "      <td>[0, 0, 0, 0, 0, 0, 0, 0, 0, 0, 0, 0, 0, 0, 0, ...</td>\n",
       "    </tr>\n",
       "    <tr>\n",
       "      <th>16924</th>\n",
       "      <td>we work longer hours than any people in the in...</td>\n",
       "      <td>workers</td>\n",
       "      <td>0</td>\n",
       "      <td>[0, 0, 0, 0, 0, 0, 0, 0, 0, 0, 0, 0, 0, 0, 0, ...</td>\n",
       "    </tr>\n",
       "    <tr>\n",
       "      <th>16925</th>\n",
       "      <td>says she will work to raise the federal minimu...</td>\n",
       "      <td>workers</td>\n",
       "      <td>1</td>\n",
       "      <td>[0, 0, 0, 0, 0, 0, 0, 0, 0, 0, 0, 0, 0, 0, 0, ...</td>\n",
       "    </tr>\n",
       "  </tbody>\n",
       "</table>\n",
       "<p>16766 rows × 4 columns</p>\n",
       "</div>"
      ],
      "text/plain": [
       "                                               statement  \\\n",
       "0      says sen bob casey dpa is trying to change the...   \n",
       "1      says the election results are suspicious becau...   \n",
       "2      a ballot dump around 4 am in milwaukee shows t...   \n",
       "3      kari lake is threatening social security and m...   \n",
       "4      republican senate candidate sam brown wants to...   \n",
       "...                                                  ...   \n",
       "16921  missouri is the state with the lowest paid wor...   \n",
       "16922  in 2009  hillary clinton was at the state depa...   \n",
       "16923  says bernie sanders fundamentally changed the ...   \n",
       "16924  we work longer hours than any people in the in...   \n",
       "16925  says she will work to raise the federal minimu...   \n",
       "\n",
       "                       issue  truth  \\\n",
       "0      2024-senate-elections      0   \n",
       "1      2024-senate-elections      0   \n",
       "2      2024-senate-elections      0   \n",
       "3      2024-senate-elections      1   \n",
       "4      2024-senate-elections      1   \n",
       "...                      ...    ...   \n",
       "16921                workers      1   \n",
       "16922                workers      1   \n",
       "16923                workers      1   \n",
       "16924                workers      0   \n",
       "16925                workers      1   \n",
       "\n",
       "                                                   token  \n",
       "0      [0, 0, 0, 0, 0, 0, 0, 0, 0, 0, 0, 0, 0, 0, 0, ...  \n",
       "1      [0, 0, 0, 0, 0, 0, 0, 0, 0, 0, 0, 0, 0, 0, 0, ...  \n",
       "2      [0, 0, 0, 0, 0, 0, 0, 0, 0, 0, 0, 0, 0, 0, 0, ...  \n",
       "3      [0, 0, 0, 0, 0, 0, 0, 0, 0, 0, 0, 0, 0, 0, 0, ...  \n",
       "4      [0, 0, 0, 0, 0, 0, 0, 0, 0, 0, 0, 0, 0, 0, 0, ...  \n",
       "...                                                  ...  \n",
       "16921  [0, 0, 0, 0, 0, 0, 0, 0, 0, 0, 0, 0, 0, 0, 0, ...  \n",
       "16922  [0, 0, 0, 0, 0, 0, 0, 0, 0, 0, 0, 0, 0, 0, 0, ...  \n",
       "16923  [0, 0, 0, 0, 0, 0, 0, 0, 0, 0, 0, 0, 0, 0, 0, ...  \n",
       "16924  [0, 0, 0, 0, 0, 0, 0, 0, 0, 0, 0, 0, 0, 0, 0, ...  \n",
       "16925  [0, 0, 0, 0, 0, 0, 0, 0, 0, 0, 0, 0, 0, 0, 0, ...  \n",
       "\n",
       "[16766 rows x 4 columns]"
      ]
     },
     "execution_count": 60,
     "metadata": {},
     "output_type": "execute_result"
    }
   ],
   "source": [
    "data_binary"
   ]
  },
  {
   "cell_type": "markdown",
   "metadata": {},
   "source": [
    "#### Prepare data for training"
   ]
  },
  {
   "cell_type": "markdown",
   "metadata": {},
   "source": []
  }
 ],
 "metadata": {
  "kernelspec": {
   "display_name": "dsmml",
   "language": "python",
   "name": "python3"
  },
  "language_info": {
   "codemirror_mode": {
    "name": "ipython",
    "version": 3
   },
   "file_extension": ".py",
   "mimetype": "text/x-python",
   "name": "python",
   "nbconvert_exporter": "python",
   "pygments_lexer": "ipython3",
   "version": "3.10.13"
  }
 },
 "nbformat": 4,
 "nbformat_minor": 2
}
