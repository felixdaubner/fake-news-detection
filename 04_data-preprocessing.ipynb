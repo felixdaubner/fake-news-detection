{
 "cells": [
  {
   "cell_type": "markdown",
   "metadata": {},
   "source": [
    "# Final Project: Fake News Detection\n",
    "\n",
    "By Felix Daubner - Hochschule der Medien\n",
    "\n",
    "Module 'Supervised and Unsupervised Learning' - Prof. Dr.-Ing. Johannes Maucher"
   ]
  },
  {
   "cell_type": "markdown",
   "metadata": {},
   "source": [
    "## Data Preprocessing"
   ]
  },
  {
   "cell_type": "code",
   "execution_count": 85,
   "metadata": {},
   "outputs": [],
   "source": [
    "import pandas as pd\n",
    "import numpy as np\n",
    "from langdetect import detect"
   ]
  },
  {
   "cell_type": "markdown",
   "metadata": {},
   "source": [
    "Currently, it's not possible to train a machine learning model using the dataset as in [data understanding](03_data-understanding.ipynb). There are some steps which have to be done before, such as:\n",
    "- Binarize and encode truth-column\n",
    "- Convert text (string) to tokens\n",
    "- Pad all sequences to the same length"
   ]
  },
  {
   "cell_type": "code",
   "execution_count": 65,
   "metadata": {},
   "outputs": [],
   "source": [
    "data = pd.read_csv(\"data/scraped.csv\", sep=\";\", index_col=0)"
   ]
  },
  {
   "cell_type": "code",
   "execution_count": 66,
   "metadata": {},
   "outputs": [
    {
     "data": {
      "text/html": [
       "<div>\n",
       "<style scoped>\n",
       "    .dataframe tbody tr th:only-of-type {\n",
       "        vertical-align: middle;\n",
       "    }\n",
       "\n",
       "    .dataframe tbody tr th {\n",
       "        vertical-align: top;\n",
       "    }\n",
       "\n",
       "    .dataframe thead th {\n",
       "        text-align: right;\n",
       "    }\n",
       "</style>\n",
       "<table border=\"1\" class=\"dataframe\">\n",
       "  <thead>\n",
       "    <tr style=\"text-align: right;\">\n",
       "      <th></th>\n",
       "      <th>statement</th>\n",
       "      <th>issue</th>\n",
       "      <th>truth</th>\n",
       "    </tr>\n",
       "  </thead>\n",
       "  <tbody>\n",
       "    <tr>\n",
       "      <th>0</th>\n",
       "      <td>Says Sen. Bob Casey, D-Pa., “is trying to chan...</td>\n",
       "      <td>2024-senate-elections</td>\n",
       "      <td>false</td>\n",
       "    </tr>\n",
       "    <tr>\n",
       "      <th>1</th>\n",
       "      <td>Says the election results are suspicious becau...</td>\n",
       "      <td>2024-senate-elections</td>\n",
       "      <td>false</td>\n",
       "    </tr>\n",
       "    <tr>\n",
       "      <th>2</th>\n",
       "      <td>A “ballot dump” around 4 a.m. in Milwaukee sho...</td>\n",
       "      <td>2024-senate-elections</td>\n",
       "      <td>pants-fire</td>\n",
       "    </tr>\n",
       "    <tr>\n",
       "      <th>3</th>\n",
       "      <td>“Kari Lake is threatening Social Security and ...</td>\n",
       "      <td>2024-senate-elections</td>\n",
       "      <td>half-true</td>\n",
       "    </tr>\n",
       "    <tr>\n",
       "      <th>4</th>\n",
       "      <td>Republican Senate candidate Sam Brown “wants t...</td>\n",
       "      <td>2024-senate-elections</td>\n",
       "      <td>half-true</td>\n",
       "    </tr>\n",
       "  </tbody>\n",
       "</table>\n",
       "</div>"
      ],
      "text/plain": [
       "                                           statement                  issue  \\\n",
       "0  Says Sen. Bob Casey, D-Pa., “is trying to chan...  2024-senate-elections   \n",
       "1  Says the election results are suspicious becau...  2024-senate-elections   \n",
       "2  A “ballot dump” around 4 a.m. in Milwaukee sho...  2024-senate-elections   \n",
       "3  “Kari Lake is threatening Social Security and ...  2024-senate-elections   \n",
       "4  Republican Senate candidate Sam Brown “wants t...  2024-senate-elections   \n",
       "\n",
       "        truth  \n",
       "0       false  \n",
       "1       false  \n",
       "2  pants-fire  \n",
       "3   half-true  \n",
       "4   half-true  "
      ]
     },
     "execution_count": 66,
     "metadata": {},
     "output_type": "execute_result"
    }
   ],
   "source": [
    "data.head()"
   ]
  },
  {
   "cell_type": "markdown",
   "metadata": {},
   "source": [
    "#### Binarization of 'truth'"
   ]
  },
  {
   "cell_type": "code",
   "execution_count": 67,
   "metadata": {},
   "outputs": [
    {
     "data": {
      "text/plain": [
       "array(['false', 'pants-fire', 'half-true', 'barely-true', 'mostly-true',\n",
       "       'true', 'half-flip', 'full-flop', 'no-flip'], dtype=object)"
      ]
     },
     "execution_count": 67,
     "metadata": {},
     "output_type": "execute_result"
    }
   ],
   "source": [
    "data[\"truth\"].unique()"
   ]
  },
  {
   "cell_type": "code",
   "execution_count": 68,
   "metadata": {},
   "outputs": [],
   "source": [
    "true = [\"true\", \"mostly-true\", \"half-true\"]\n",
    "false = [\"barely-true\", \"false\", \"pants-fire\"]\n",
    "flip = [\"full-flop\", \"half-flip\", \"no-flip\"]"
   ]
  },
  {
   "cell_type": "code",
   "execution_count": 69,
   "metadata": {},
   "outputs": [],
   "source": [
    "data_dropped = data[~data[\"truth\"].isin(flip)]"
   ]
  },
  {
   "cell_type": "code",
   "execution_count": 70,
   "metadata": {},
   "outputs": [
    {
     "data": {
      "text/plain": [
       "array(['false', 'pants-fire', 'half-true', 'barely-true', 'mostly-true',\n",
       "       'true'], dtype=object)"
      ]
     },
     "execution_count": 70,
     "metadata": {},
     "output_type": "execute_result"
    }
   ],
   "source": [
    "data_dropped[\"truth\"].unique()"
   ]
  },
  {
   "cell_type": "code",
   "execution_count": 71,
   "metadata": {},
   "outputs": [],
   "source": [
    "data_binary = data_dropped.copy()\n",
    "data_binary[\"truth\"] = data_binary[\"truth\"].replace(true, 1)\n",
    "data_binary[\"truth\"] = data_binary[\"truth\"].replace(false, 0)"
   ]
  },
  {
   "cell_type": "code",
   "execution_count": 72,
   "metadata": {},
   "outputs": [
    {
     "data": {
      "text/plain": [
       "0    10632\n",
       "1     6134\n",
       "Name: truth, dtype: int64"
      ]
     },
     "execution_count": 72,
     "metadata": {},
     "output_type": "execute_result"
    }
   ],
   "source": [
    "data_binary[\"truth\"].value_counts()"
   ]
  },
  {
   "cell_type": "code",
   "execution_count": 73,
   "metadata": {},
   "outputs": [
    {
     "data": {
      "text/plain": [
       "dtype('int64')"
      ]
     },
     "execution_count": 73,
     "metadata": {},
     "output_type": "execute_result"
    }
   ],
   "source": [
    "data_binary[\"truth\"].dtype"
   ]
  },
  {
   "cell_type": "markdown",
   "metadata": {},
   "source": [
    "#### Tokenization of 'statement'"
   ]
  },
  {
   "cell_type": "markdown",
   "metadata": {},
   "source": [
    "..."
   ]
  },
  {
   "cell_type": "code",
   "execution_count": 74,
   "metadata": {},
   "outputs": [],
   "source": [
    "data_binary[\"statement\"] = data_binary[\"statement\"].str.lower().str.replace(r'[^a-zA-Z0-9 ]',\"\", regex=True).astype(\"str\")"
   ]
  },
  {
   "cell_type": "code",
   "execution_count": 75,
   "metadata": {},
   "outputs": [
    {
     "data": {
      "text/html": [
       "<div>\n",
       "<style scoped>\n",
       "    .dataframe tbody tr th:only-of-type {\n",
       "        vertical-align: middle;\n",
       "    }\n",
       "\n",
       "    .dataframe tbody tr th {\n",
       "        vertical-align: top;\n",
       "    }\n",
       "\n",
       "    .dataframe thead th {\n",
       "        text-align: right;\n",
       "    }\n",
       "</style>\n",
       "<table border=\"1\" class=\"dataframe\">\n",
       "  <thead>\n",
       "    <tr style=\"text-align: right;\">\n",
       "      <th></th>\n",
       "      <th>statement</th>\n",
       "      <th>issue</th>\n",
       "      <th>truth</th>\n",
       "    </tr>\n",
       "  </thead>\n",
       "  <tbody>\n",
       "    <tr>\n",
       "      <th>0</th>\n",
       "      <td>says sen bob casey dpa is trying to change the...</td>\n",
       "      <td>2024-senate-elections</td>\n",
       "      <td>0</td>\n",
       "    </tr>\n",
       "    <tr>\n",
       "      <th>1</th>\n",
       "      <td>says the election results are suspicious becau...</td>\n",
       "      <td>2024-senate-elections</td>\n",
       "      <td>0</td>\n",
       "    </tr>\n",
       "    <tr>\n",
       "      <th>2</th>\n",
       "      <td>a ballot dump around 4 am in milwaukee shows t...</td>\n",
       "      <td>2024-senate-elections</td>\n",
       "      <td>0</td>\n",
       "    </tr>\n",
       "    <tr>\n",
       "      <th>3</th>\n",
       "      <td>kari lake is threatening social security and m...</td>\n",
       "      <td>2024-senate-elections</td>\n",
       "      <td>1</td>\n",
       "    </tr>\n",
       "    <tr>\n",
       "      <th>4</th>\n",
       "      <td>republican senate candidate sam brown wants to...</td>\n",
       "      <td>2024-senate-elections</td>\n",
       "      <td>1</td>\n",
       "    </tr>\n",
       "    <tr>\n",
       "      <th>...</th>\n",
       "      <td>...</td>\n",
       "      <td>...</td>\n",
       "      <td>...</td>\n",
       "    </tr>\n",
       "    <tr>\n",
       "      <th>16921</th>\n",
       "      <td>missouri is the state with the lowest paid wor...</td>\n",
       "      <td>workers</td>\n",
       "      <td>1</td>\n",
       "    </tr>\n",
       "    <tr>\n",
       "      <th>16922</th>\n",
       "      <td>in 2009  hillary clinton was at the state depa...</td>\n",
       "      <td>workers</td>\n",
       "      <td>1</td>\n",
       "    </tr>\n",
       "    <tr>\n",
       "      <th>16923</th>\n",
       "      <td>says bernie sanders fundamentally changed the ...</td>\n",
       "      <td>workers</td>\n",
       "      <td>1</td>\n",
       "    </tr>\n",
       "    <tr>\n",
       "      <th>16924</th>\n",
       "      <td>we work longer hours than any people in the in...</td>\n",
       "      <td>workers</td>\n",
       "      <td>0</td>\n",
       "    </tr>\n",
       "    <tr>\n",
       "      <th>16925</th>\n",
       "      <td>says she will work to raise the federal minimu...</td>\n",
       "      <td>workers</td>\n",
       "      <td>1</td>\n",
       "    </tr>\n",
       "  </tbody>\n",
       "</table>\n",
       "<p>16766 rows × 3 columns</p>\n",
       "</div>"
      ],
      "text/plain": [
       "                                               statement  \\\n",
       "0      says sen bob casey dpa is trying to change the...   \n",
       "1      says the election results are suspicious becau...   \n",
       "2      a ballot dump around 4 am in milwaukee shows t...   \n",
       "3      kari lake is threatening social security and m...   \n",
       "4      republican senate candidate sam brown wants to...   \n",
       "...                                                  ...   \n",
       "16921  missouri is the state with the lowest paid wor...   \n",
       "16922  in 2009  hillary clinton was at the state depa...   \n",
       "16923  says bernie sanders fundamentally changed the ...   \n",
       "16924  we work longer hours than any people in the in...   \n",
       "16925  says she will work to raise the federal minimu...   \n",
       "\n",
       "                       issue  truth  \n",
       "0      2024-senate-elections      0  \n",
       "1      2024-senate-elections      0  \n",
       "2      2024-senate-elections      0  \n",
       "3      2024-senate-elections      1  \n",
       "4      2024-senate-elections      1  \n",
       "...                      ...    ...  \n",
       "16921                workers      1  \n",
       "16922                workers      1  \n",
       "16923                workers      1  \n",
       "16924                workers      0  \n",
       "16925                workers      1  \n",
       "\n",
       "[16766 rows x 3 columns]"
      ]
     },
     "execution_count": 75,
     "metadata": {},
     "output_type": "execute_result"
    }
   ],
   "source": [
    "data_binary"
   ]
  },
  {
   "cell_type": "code",
   "execution_count": 76,
   "metadata": {},
   "outputs": [],
   "source": [
    "from tensorflow.keras.preprocessing.text import Tokenizer\n",
    "from tensorflow.keras.preprocessing.sequence import pad_sequences"
   ]
  },
  {
   "cell_type": "markdown",
   "metadata": {},
   "source": [
    "Before tokenizing and padding the statements, it is to be checked whether all statements are in English. All non-English statements shall be dropped from the DataFrame. To check the language of a statement, the library 'langdetect' is used. langdetect returns the language of a string."
   ]
  },
  {
   "cell_type": "code",
   "execution_count": 95,
   "metadata": {},
   "outputs": [],
   "source": [
    "data_binary[\"lang\"] = data_binary[\"statement\"].apply(detect)"
   ]
  },
  {
   "cell_type": "code",
   "execution_count": 96,
   "metadata": {},
   "outputs": [
    {
     "data": {
      "text/plain": [
       "en    16074\n",
       "es      489\n",
       "da       30\n",
       "af       25\n",
       "fr       23\n",
       "it       21\n",
       "ca       20\n",
       "nl       18\n",
       "et       15\n",
       "no       13\n",
       "sv       12\n",
       "tl        6\n",
       "ro        5\n",
       "cy        3\n",
       "pt        3\n",
       "id        2\n",
       "sk        2\n",
       "fi        2\n",
       "hu        1\n",
       "so        1\n",
       "pl        1\n",
       "Name: lang, dtype: int64"
      ]
     },
     "execution_count": 96,
     "metadata": {},
     "output_type": "execute_result"
    }
   ],
   "source": [
    "data_binary[\"lang\"].value_counts()"
   ]
  },
  {
   "cell_type": "markdown",
   "metadata": {},
   "source": [
    "All rows which were detected to be non-English should be removed from the DataFrame without further checking. As the majority (about 94%) of all statements are classified to be English, not much data is lost."
   ]
  },
  {
   "cell_type": "code",
   "execution_count": 99,
   "metadata": {},
   "outputs": [],
   "source": [
    "data_eng = data_binary[data_binary[\"lang\"] == \"en\"]"
   ]
  },
  {
   "cell_type": "code",
   "execution_count": 101,
   "metadata": {},
   "outputs": [
    {
     "data": {
      "text/plain": [
       "True"
      ]
     },
     "execution_count": 101,
     "metadata": {},
     "output_type": "execute_result"
    }
   ],
   "source": [
    "data_eng.shape[0] == sum(data_binary[\"lang\"] == \"en\")"
   ]
  },
  {
   "cell_type": "markdown",
   "metadata": {},
   "source": [
    "Now, it is assumed that there are only English statements left in the data. Thus, the statements can now be tokenized using the keras.Tokenizer which transforms the statements into a list of integers."
   ]
  },
  {
   "cell_type": "code",
   "execution_count": 77,
   "metadata": {},
   "outputs": [],
   "source": [
    "NUM_WORDS=3000"
   ]
  },
  {
   "cell_type": "code",
   "execution_count": 102,
   "metadata": {},
   "outputs": [],
   "source": [
    "data_token = data_eng.copy()\n",
    "\n",
    "token = Tokenizer(num_words=NUM_WORDS)\n",
    "statements = data_eng[\"statement\"].to_list()\n",
    "token.fit_on_texts(statements)\n",
    "data_token[\"token\"] = token.texts_to_sequences(statements)"
   ]
  },
  {
   "cell_type": "code",
   "execution_count": 104,
   "metadata": {},
   "outputs": [
    {
     "data": {
      "text/html": [
       "<div>\n",
       "<style scoped>\n",
       "    .dataframe tbody tr th:only-of-type {\n",
       "        vertical-align: middle;\n",
       "    }\n",
       "\n",
       "    .dataframe tbody tr th {\n",
       "        vertical-align: top;\n",
       "    }\n",
       "\n",
       "    .dataframe thead th {\n",
       "        text-align: right;\n",
       "    }\n",
       "</style>\n",
       "<table border=\"1\" class=\"dataframe\">\n",
       "  <thead>\n",
       "    <tr style=\"text-align: right;\">\n",
       "      <th></th>\n",
       "      <th>statement</th>\n",
       "      <th>issue</th>\n",
       "      <th>truth</th>\n",
       "      <th>token</th>\n",
       "      <th>lang</th>\n",
       "    </tr>\n",
       "  </thead>\n",
       "  <tbody>\n",
       "    <tr>\n",
       "      <th>0</th>\n",
       "      <td>says sen bob casey dpa is trying to change the...</td>\n",
       "      <td>2024-senate-elections</td>\n",
       "      <td>0</td>\n",
       "      <td>[9, 177, 1632, 2444, 8, 471, 2, 259, 1, 4, 1, ...</td>\n",
       "      <td>en</td>\n",
       "    </tr>\n",
       "    <tr>\n",
       "      <th>1</th>\n",
       "      <td>says the election results are suspicious becau...</td>\n",
       "      <td>2024-senate-elections</td>\n",
       "      <td>0</td>\n",
       "      <td>[9, 1, 184, 2055, 12, 63, 670, 27, 177, 681, 7...</td>\n",
       "      <td>en</td>\n",
       "    </tr>\n",
       "    <tr>\n",
       "      <th>2</th>\n",
       "      <td>a ballot dump around 4 am in milwaukee shows t...</td>\n",
       "      <td>2024-senate-elections</td>\n",
       "      <td>0</td>\n",
       "      <td>[5, 799, 2608, 420, 398, 1248, 3, 254, 47, 1, ...</td>\n",
       "      <td>en</td>\n",
       "    </tr>\n",
       "    <tr>\n",
       "      <th>3</th>\n",
       "      <td>kari lake is threatening social security and m...</td>\n",
       "      <td>2024-senate-elections</td>\n",
       "      <td>1</td>\n",
       "      <td>[1966, 1175, 8, 2609, 103, 96, 6, 113]</td>\n",
       "      <td>en</td>\n",
       "    </tr>\n",
       "    <tr>\n",
       "      <th>4</th>\n",
       "      <td>republican senate candidate sam brown wants to...</td>\n",
       "      <td>2024-senate-elections</td>\n",
       "      <td>1</td>\n",
       "      <td>[155, 167, 274, 512, 142, 2, 112, 247, 6, 103,...</td>\n",
       "      <td>en</td>\n",
       "    </tr>\n",
       "  </tbody>\n",
       "</table>\n",
       "</div>"
      ],
      "text/plain": [
       "                                           statement                  issue  \\\n",
       "0  says sen bob casey dpa is trying to change the...  2024-senate-elections   \n",
       "1  says the election results are suspicious becau...  2024-senate-elections   \n",
       "2  a ballot dump around 4 am in milwaukee shows t...  2024-senate-elections   \n",
       "3  kari lake is threatening social security and m...  2024-senate-elections   \n",
       "4  republican senate candidate sam brown wants to...  2024-senate-elections   \n",
       "\n",
       "   truth                                              token lang  \n",
       "0      0  [9, 177, 1632, 2444, 8, 471, 2, 259, 1, 4, 1, ...   en  \n",
       "1      0  [9, 1, 184, 2055, 12, 63, 670, 27, 177, 681, 7...   en  \n",
       "2      0  [5, 799, 2608, 420, 398, 1248, 3, 254, 47, 1, ...   en  \n",
       "3      1             [1966, 1175, 8, 2609, 103, 96, 6, 113]   en  \n",
       "4      1  [155, 167, 274, 512, 142, 2, 112, 247, 6, 103,...   en  "
      ]
     },
     "execution_count": 104,
     "metadata": {},
     "output_type": "execute_result"
    }
   ],
   "source": [
    "data_token.head()"
   ]
  },
  {
   "cell_type": "code",
   "execution_count": 105,
   "metadata": {},
   "outputs": [
    {
     "data": {
      "text/plain": [
       "57"
      ]
     },
     "execution_count": 105,
     "metadata": {},
     "output_type": "execute_result"
    }
   ],
   "source": [
    "max(data_token[\"token\"].apply(len))"
   ]
  },
  {
   "cell_type": "markdown",
   "metadata": {},
   "source": [
    "#### Padding of sequences"
   ]
  },
  {
   "cell_type": "code",
   "execution_count": 106,
   "metadata": {},
   "outputs": [],
   "source": [
    "padded = pad_sequences(data_token[\"token\"].to_list())\n",
    "data_token[\"token\"] = padded.tolist()"
   ]
  },
  {
   "cell_type": "code",
   "execution_count": 107,
   "metadata": {},
   "outputs": [
    {
     "data": {
      "text/html": [
       "<div>\n",
       "<style scoped>\n",
       "    .dataframe tbody tr th:only-of-type {\n",
       "        vertical-align: middle;\n",
       "    }\n",
       "\n",
       "    .dataframe tbody tr th {\n",
       "        vertical-align: top;\n",
       "    }\n",
       "\n",
       "    .dataframe thead th {\n",
       "        text-align: right;\n",
       "    }\n",
       "</style>\n",
       "<table border=\"1\" class=\"dataframe\">\n",
       "  <thead>\n",
       "    <tr style=\"text-align: right;\">\n",
       "      <th></th>\n",
       "      <th>statement</th>\n",
       "      <th>issue</th>\n",
       "      <th>truth</th>\n",
       "      <th>token</th>\n",
       "      <th>lang</th>\n",
       "    </tr>\n",
       "  </thead>\n",
       "  <tbody>\n",
       "    <tr>\n",
       "      <th>0</th>\n",
       "      <td>says sen bob casey dpa is trying to change the...</td>\n",
       "      <td>2024-senate-elections</td>\n",
       "      <td>0</td>\n",
       "      <td>[0, 0, 0, 0, 0, 0, 0, 0, 0, 0, 0, 0, 0, 0, 0, ...</td>\n",
       "      <td>en</td>\n",
       "    </tr>\n",
       "    <tr>\n",
       "      <th>1</th>\n",
       "      <td>says the election results are suspicious becau...</td>\n",
       "      <td>2024-senate-elections</td>\n",
       "      <td>0</td>\n",
       "      <td>[0, 0, 0, 0, 0, 0, 0, 0, 0, 0, 0, 0, 0, 0, 0, ...</td>\n",
       "      <td>en</td>\n",
       "    </tr>\n",
       "    <tr>\n",
       "      <th>2</th>\n",
       "      <td>a ballot dump around 4 am in milwaukee shows t...</td>\n",
       "      <td>2024-senate-elections</td>\n",
       "      <td>0</td>\n",
       "      <td>[0, 0, 0, 0, 0, 0, 0, 0, 0, 0, 0, 0, 0, 0, 0, ...</td>\n",
       "      <td>en</td>\n",
       "    </tr>\n",
       "    <tr>\n",
       "      <th>3</th>\n",
       "      <td>kari lake is threatening social security and m...</td>\n",
       "      <td>2024-senate-elections</td>\n",
       "      <td>1</td>\n",
       "      <td>[0, 0, 0, 0, 0, 0, 0, 0, 0, 0, 0, 0, 0, 0, 0, ...</td>\n",
       "      <td>en</td>\n",
       "    </tr>\n",
       "    <tr>\n",
       "      <th>4</th>\n",
       "      <td>republican senate candidate sam brown wants to...</td>\n",
       "      <td>2024-senate-elections</td>\n",
       "      <td>1</td>\n",
       "      <td>[0, 0, 0, 0, 0, 0, 0, 0, 0, 0, 0, 0, 0, 0, 0, ...</td>\n",
       "      <td>en</td>\n",
       "    </tr>\n",
       "  </tbody>\n",
       "</table>\n",
       "</div>"
      ],
      "text/plain": [
       "                                           statement                  issue  \\\n",
       "0  says sen bob casey dpa is trying to change the...  2024-senate-elections   \n",
       "1  says the election results are suspicious becau...  2024-senate-elections   \n",
       "2  a ballot dump around 4 am in milwaukee shows t...  2024-senate-elections   \n",
       "3  kari lake is threatening social security and m...  2024-senate-elections   \n",
       "4  republican senate candidate sam brown wants to...  2024-senate-elections   \n",
       "\n",
       "   truth                                              token lang  \n",
       "0      0  [0, 0, 0, 0, 0, 0, 0, 0, 0, 0, 0, 0, 0, 0, 0, ...   en  \n",
       "1      0  [0, 0, 0, 0, 0, 0, 0, 0, 0, 0, 0, 0, 0, 0, 0, ...   en  \n",
       "2      0  [0, 0, 0, 0, 0, 0, 0, 0, 0, 0, 0, 0, 0, 0, 0, ...   en  \n",
       "3      1  [0, 0, 0, 0, 0, 0, 0, 0, 0, 0, 0, 0, 0, 0, 0, ...   en  \n",
       "4      1  [0, 0, 0, 0, 0, 0, 0, 0, 0, 0, 0, 0, 0, 0, 0, ...   en  "
      ]
     },
     "execution_count": 107,
     "metadata": {},
     "output_type": "execute_result"
    }
   ],
   "source": [
    "data_token.head()"
   ]
  },
  {
   "cell_type": "code",
   "execution_count": 108,
   "metadata": {},
   "outputs": [],
   "source": [
    "data_token.to_csv(\"data/processed.csv\", sep=\";\")"
   ]
  },
  {
   "cell_type": "markdown",
   "metadata": {},
   "source": [
    "#### Prepare data for training"
   ]
  },
  {
   "cell_type": "markdown",
   "metadata": {},
   "source": [
    "Before finishing data preprocessing, the data is prepared for the training process. The neural network to be trained only takes numpy arrays as input. Thus, the data currently saved as a pandas DataFrame is converted in to a numpy array. In this conversion process, only the columns \"token\" and \"truth\" are considered."
   ]
  },
  {
   "cell_type": "code",
   "execution_count": 109,
   "metadata": {},
   "outputs": [],
   "source": [
    "X = np.array(data_token[\"token\"].apply(np.array).to_list())\n",
    "y = np.array(data_token[\"truth\"])"
   ]
  },
  {
   "cell_type": "markdown",
   "metadata": {},
   "source": [
    "The prepared data X containing all the features and y containing all targets to the corresponding features. Both arrays are saved as a csv-file."
   ]
  },
  {
   "cell_type": "code",
   "execution_count": 116,
   "metadata": {},
   "outputs": [],
   "source": [
    "np.savetxt(\"data/X.csv\", X, delimiter=\";\")\n",
    "np.savetxt(\"data/y.csv\", y, delimiter=\";\")"
   ]
  }
 ],
 "metadata": {
  "kernelspec": {
   "display_name": "dsmml",
   "language": "python",
   "name": "python3"
  },
  "language_info": {
   "codemirror_mode": {
    "name": "ipython",
    "version": 3
   },
   "file_extension": ".py",
   "mimetype": "text/x-python",
   "name": "python",
   "nbconvert_exporter": "python",
   "pygments_lexer": "ipython3",
   "version": "3.10.13"
  }
 },
 "nbformat": 4,
 "nbformat_minor": 2
}
