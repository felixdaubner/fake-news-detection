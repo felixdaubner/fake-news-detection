{
 "cells": [
  {
   "cell_type": "markdown",
   "metadata": {},
   "source": [
    "# Final Project: Fake News Detection\n",
    "\n",
    "By Felix Daubner - Hochschule der Medien\n",
    "\n",
    "Module 'Supervised and Unsupervised Learning' - Prof. Dr.-Ing. Johannes Maucher"
   ]
  },
  {
   "cell_type": "markdown",
   "metadata": {},
   "source": [
    "## Data Preprocessing"
   ]
  },
  {
   "cell_type": "code",
   "execution_count": 60,
   "metadata": {},
   "outputs": [],
   "source": [
    "import pandas as pd\n",
    "import numpy as np\n",
    "from langdetect import detect\n",
    "#import openai\n",
    "from imblearn.over_sampling import RandomOverSampler\n",
    "from gensim.models import KeyedVectors"
   ]
  },
  {
   "cell_type": "code",
   "execution_count": 1,
   "metadata": {},
   "outputs": [],
   "source": [
    "def replaceChannel(data, channel, alternative=None):\n",
    "    data[\"channel\"] = data[\"channel\"].replace(fr'.*{channel}.*', channel, regex=True)\n",
    "    \n",
    "    if alternative:\n",
    "        data[\"channel\"] = data[\"channel\"].replace(fr'.*{alternative}.*', channel, regex=True)\n",
    "\n",
    "    return data[\"channel\"]"
   ]
  },
  {
   "cell_type": "markdown",
   "metadata": {},
   "source": [
    "Currently, it's not possible to train a machine learning model using the dataset which was analysed in [data understanding](03_data-understanding.ipynb). There are some steps which have to be done before which have already been named, such as:\n",
    "\n",
    "- Remove 'full-flip', 'half-flip', 'no-flip' from target variable\n",
    "- Control language of all statements and only keep English statements\n",
    "- Handle missing values in column 'channel'\n",
    "- Encode 'issue'\n",
    "- Summarize channels, for e.g. 'in a X post' and 'in a post on X' should become 'X'\n",
    "- Clean column 'person' as there are many invalid values\n",
    "- Binarize and encode truth-column\n",
    "- Balance dataset\n",
    "- Convert text (string) to tokens\n",
    "- Pad all sequences to the same length\n",
    "\n",
    "All those operations have to be done on the validation data (LIAR.csv) too, only using the insights we get from the scraped data."
   ]
  },
  {
   "cell_type": "markdown",
   "metadata": {},
   "source": [
    "First, import the raw data by using 'read_csv'."
   ]
  },
  {
   "cell_type": "code",
   "execution_count": 3,
   "metadata": {},
   "outputs": [],
   "source": [
    "data = pd.read_csv(\"data/scraped.csv\", sep=\";\", index_col=0)"
   ]
  },
  {
   "cell_type": "code",
   "execution_count": 4,
   "metadata": {},
   "outputs": [
    {
     "data": {
      "text/html": [
       "<div>\n",
       "<style scoped>\n",
       "    .dataframe tbody tr th:only-of-type {\n",
       "        vertical-align: middle;\n",
       "    }\n",
       "\n",
       "    .dataframe tbody tr th {\n",
       "        vertical-align: top;\n",
       "    }\n",
       "\n",
       "    .dataframe thead th {\n",
       "        text-align: right;\n",
       "    }\n",
       "</style>\n",
       "<table border=\"1\" class=\"dataframe\">\n",
       "  <thead>\n",
       "    <tr style=\"text-align: right;\">\n",
       "      <th></th>\n",
       "      <th>statement</th>\n",
       "      <th>issue</th>\n",
       "      <th>person</th>\n",
       "      <th>channel</th>\n",
       "      <th>truth</th>\n",
       "    </tr>\n",
       "  </thead>\n",
       "  <tbody>\n",
       "    <tr>\n",
       "      <th>0</th>\n",
       "      <td>Says Sen. Bob Casey, D-Pa., “is trying to chan...</td>\n",
       "      <td>2024-senate-elections</td>\n",
       "      <td>Elon Musk</td>\n",
       "      <td>in an X post</td>\n",
       "      <td>false</td>\n",
       "    </tr>\n",
       "    <tr>\n",
       "      <th>1</th>\n",
       "      <td>Says the election results are suspicious becau...</td>\n",
       "      <td>2024-senate-elections</td>\n",
       "      <td>Eric Hovde</td>\n",
       "      <td>in X, formerly Twitter</td>\n",
       "      <td>false</td>\n",
       "    </tr>\n",
       "    <tr>\n",
       "      <th>2</th>\n",
       "      <td>A “ballot dump” around 4 a.m. in Milwaukee sho...</td>\n",
       "      <td>2024-senate-elections</td>\n",
       "      <td>Instagram posts</td>\n",
       "      <td>in an Instagram post</td>\n",
       "      <td>pants-fire</td>\n",
       "    </tr>\n",
       "    <tr>\n",
       "      <th>3</th>\n",
       "      <td>“Kari Lake is threatening Social Security and ...</td>\n",
       "      <td>2024-senate-elections</td>\n",
       "      <td>WinSenate</td>\n",
       "      <td>in a Facebook ad</td>\n",
       "      <td>half-true</td>\n",
       "    </tr>\n",
       "    <tr>\n",
       "      <th>4</th>\n",
       "      <td>Republican Senate candidate Sam Brown “wants t...</td>\n",
       "      <td>2024-senate-elections</td>\n",
       "      <td>Make the Road Nevada</td>\n",
       "      <td>in an X post</td>\n",
       "      <td>half-true</td>\n",
       "    </tr>\n",
       "  </tbody>\n",
       "</table>\n",
       "</div>"
      ],
      "text/plain": [
       "                                           statement                  issue  \\\n",
       "0  Says Sen. Bob Casey, D-Pa., “is trying to chan...  2024-senate-elections   \n",
       "1  Says the election results are suspicious becau...  2024-senate-elections   \n",
       "2  A “ballot dump” around 4 a.m. in Milwaukee sho...  2024-senate-elections   \n",
       "3  “Kari Lake is threatening Social Security and ...  2024-senate-elections   \n",
       "4  Republican Senate candidate Sam Brown “wants t...  2024-senate-elections   \n",
       "\n",
       "                 person                  channel       truth  \n",
       "0             Elon Musk             in an X post       false  \n",
       "1            Eric Hovde   in X, formerly Twitter       false  \n",
       "2       Instagram posts     in an Instagram post  pants-fire  \n",
       "3             WinSenate         in a Facebook ad   half-true  \n",
       "4  Make the Road Nevada             in an X post   half-true  "
      ]
     },
     "execution_count": 4,
     "metadata": {},
     "output_type": "execute_result"
    }
   ],
   "source": [
    "data.head()"
   ]
  },
  {
   "cell_type": "code",
   "execution_count": 5,
   "metadata": {},
   "outputs": [],
   "source": [
    "test = pd.read_csv(\"data/LIAR.csv\", sep=\";\", header=None)"
   ]
  },
  {
   "cell_type": "code",
   "execution_count": 6,
   "metadata": {},
   "outputs": [
    {
     "data": {
      "text/html": [
       "<div>\n",
       "<style scoped>\n",
       "    .dataframe tbody tr th:only-of-type {\n",
       "        vertical-align: middle;\n",
       "    }\n",
       "\n",
       "    .dataframe tbody tr th {\n",
       "        vertical-align: top;\n",
       "    }\n",
       "\n",
       "    .dataframe thead th {\n",
       "        text-align: right;\n",
       "    }\n",
       "</style>\n",
       "<table border=\"1\" class=\"dataframe\">\n",
       "  <thead>\n",
       "    <tr style=\"text-align: right;\">\n",
       "      <th></th>\n",
       "      <th>0</th>\n",
       "      <th>1</th>\n",
       "      <th>2</th>\n",
       "      <th>3</th>\n",
       "      <th>4</th>\n",
       "      <th>5</th>\n",
       "      <th>6</th>\n",
       "      <th>7</th>\n",
       "      <th>8</th>\n",
       "      <th>9</th>\n",
       "      <th>10</th>\n",
       "      <th>11</th>\n",
       "      <th>12</th>\n",
       "      <th>13</th>\n",
       "      <th>14</th>\n",
       "    </tr>\n",
       "  </thead>\n",
       "  <tbody>\n",
       "    <tr>\n",
       "      <th>0</th>\n",
       "      <td>0</td>\n",
       "      <td>2635.json</td>\n",
       "      <td>false</td>\n",
       "      <td>Says the Annies List political group supports ...</td>\n",
       "      <td>abortion</td>\n",
       "      <td>dwayne-bohac</td>\n",
       "      <td>State representative</td>\n",
       "      <td>Texas</td>\n",
       "      <td>republican</td>\n",
       "      <td>0.0</td>\n",
       "      <td>1.0</td>\n",
       "      <td>0.0</td>\n",
       "      <td>0.0</td>\n",
       "      <td>0.0</td>\n",
       "      <td>a mailer</td>\n",
       "    </tr>\n",
       "    <tr>\n",
       "      <th>1</th>\n",
       "      <td>1</td>\n",
       "      <td>10540.json</td>\n",
       "      <td>half-true</td>\n",
       "      <td>When did the decline of coal start? It started...</td>\n",
       "      <td>energy,history,job-accomplishments</td>\n",
       "      <td>scott-surovell</td>\n",
       "      <td>State delegate</td>\n",
       "      <td>Virginia</td>\n",
       "      <td>democrat</td>\n",
       "      <td>0.0</td>\n",
       "      <td>0.0</td>\n",
       "      <td>1.0</td>\n",
       "      <td>1.0</td>\n",
       "      <td>0.0</td>\n",
       "      <td>a floor speech.</td>\n",
       "    </tr>\n",
       "    <tr>\n",
       "      <th>2</th>\n",
       "      <td>2</td>\n",
       "      <td>324.json</td>\n",
       "      <td>mostly-true</td>\n",
       "      <td>Hillary Clinton agrees with John McCain \"by vo...</td>\n",
       "      <td>foreign-policy</td>\n",
       "      <td>barack-obama</td>\n",
       "      <td>President</td>\n",
       "      <td>Illinois</td>\n",
       "      <td>democrat</td>\n",
       "      <td>70.0</td>\n",
       "      <td>71.0</td>\n",
       "      <td>160.0</td>\n",
       "      <td>163.0</td>\n",
       "      <td>9.0</td>\n",
       "      <td>Denver</td>\n",
       "    </tr>\n",
       "    <tr>\n",
       "      <th>3</th>\n",
       "      <td>3</td>\n",
       "      <td>1123.json</td>\n",
       "      <td>false</td>\n",
       "      <td>Health care reform legislation is likely to ma...</td>\n",
       "      <td>health-care</td>\n",
       "      <td>blog-posting</td>\n",
       "      <td>NaN</td>\n",
       "      <td>NaN</td>\n",
       "      <td>none</td>\n",
       "      <td>7.0</td>\n",
       "      <td>19.0</td>\n",
       "      <td>3.0</td>\n",
       "      <td>5.0</td>\n",
       "      <td>44.0</td>\n",
       "      <td>a news release</td>\n",
       "    </tr>\n",
       "    <tr>\n",
       "      <th>4</th>\n",
       "      <td>4</td>\n",
       "      <td>9028.json</td>\n",
       "      <td>half-true</td>\n",
       "      <td>The economic turnaround started at the end of ...</td>\n",
       "      <td>economy,jobs</td>\n",
       "      <td>charlie-crist</td>\n",
       "      <td>NaN</td>\n",
       "      <td>Florida</td>\n",
       "      <td>democrat</td>\n",
       "      <td>15.0</td>\n",
       "      <td>9.0</td>\n",
       "      <td>20.0</td>\n",
       "      <td>19.0</td>\n",
       "      <td>2.0</td>\n",
       "      <td>an interview on CNN</td>\n",
       "    </tr>\n",
       "  </tbody>\n",
       "</table>\n",
       "</div>"
      ],
      "text/plain": [
       "   0           1            2   \\\n",
       "0   0   2635.json        false   \n",
       "1   1  10540.json    half-true   \n",
       "2   2    324.json  mostly-true   \n",
       "3   3   1123.json        false   \n",
       "4   4   9028.json    half-true   \n",
       "\n",
       "                                                  3   \\\n",
       "0  Says the Annies List political group supports ...   \n",
       "1  When did the decline of coal start? It started...   \n",
       "2  Hillary Clinton agrees with John McCain \"by vo...   \n",
       "3  Health care reform legislation is likely to ma...   \n",
       "4  The economic turnaround started at the end of ...   \n",
       "\n",
       "                                   4               5                     6   \\\n",
       "0                            abortion    dwayne-bohac  State representative   \n",
       "1  energy,history,job-accomplishments  scott-surovell        State delegate   \n",
       "2                      foreign-policy    barack-obama             President   \n",
       "3                         health-care    blog-posting                   NaN   \n",
       "4                        economy,jobs   charlie-crist                   NaN   \n",
       "\n",
       "         7           8     9     10     11     12    13                   14  \n",
       "0     Texas  republican   0.0   1.0    0.0    0.0   0.0             a mailer  \n",
       "1  Virginia    democrat   0.0   0.0    1.0    1.0   0.0      a floor speech.  \n",
       "2  Illinois    democrat  70.0  71.0  160.0  163.0   9.0               Denver  \n",
       "3       NaN        none   7.0  19.0    3.0    5.0  44.0       a news release  \n",
       "4   Florida    democrat  15.0   9.0   20.0   19.0   2.0  an interview on CNN  "
      ]
     },
     "execution_count": 6,
     "metadata": {},
     "output_type": "execute_result"
    }
   ],
   "source": [
    "test.head()"
   ]
  },
  {
   "cell_type": "markdown",
   "metadata": {},
   "source": [
    "### Remove invalid truth classifications"
   ]
  },
  {
   "cell_type": "code",
   "execution_count": 7,
   "metadata": {},
   "outputs": [
    {
     "data": {
      "text/plain": [
       "(16926, 5)"
      ]
     },
     "execution_count": 7,
     "metadata": {},
     "output_type": "execute_result"
    }
   ],
   "source": [
    "data.shape"
   ]
  },
  {
   "cell_type": "code",
   "execution_count": 8,
   "metadata": {},
   "outputs": [
    {
     "data": {
      "text/plain": [
       "array(['false', 'pants-fire', 'half-true', 'barely-true', 'mostly-true',\n",
       "       'true', 'half-flip', 'full-flop', 'no-flip'], dtype=object)"
      ]
     },
     "execution_count": 8,
     "metadata": {},
     "output_type": "execute_result"
    }
   ],
   "source": [
    "data[\"truth\"].unique()"
   ]
  },
  {
   "cell_type": "code",
   "execution_count": 9,
   "metadata": {},
   "outputs": [],
   "source": [
    "flip = [\"half-flip\", \"full-flop\", \"no-flip\"]"
   ]
  },
  {
   "cell_type": "code",
   "execution_count": 10,
   "metadata": {},
   "outputs": [],
   "source": [
    "data_removedflip = data[~data[\"truth\"].isin(flip)]"
   ]
  },
  {
   "cell_type": "code",
   "execution_count": 11,
   "metadata": {},
   "outputs": [
    {
     "data": {
      "text/plain": [
       "(16766, 5)"
      ]
     },
     "execution_count": 11,
     "metadata": {},
     "output_type": "execute_result"
    }
   ],
   "source": [
    "data_removedflip.shape"
   ]
  },
  {
   "cell_type": "code",
   "execution_count": 12,
   "metadata": {},
   "outputs": [
    {
     "name": "stdout",
     "output_type": "stream",
     "text": [
      "Removed columns: 16926 - 16766 = 160\n"
     ]
    }
   ],
   "source": [
    "print(f\"Removed columns: {data.shape[0]} - {data_removedflip.shape[0]} = {data.shape[0] - data_removedflip.shape[0]}\")"
   ]
  },
  {
   "cell_type": "markdown",
   "metadata": {},
   "source": [
    "### Check language of statements"
   ]
  },
  {
   "cell_type": "markdown",
   "metadata": {},
   "source": [
    "Before tokenizing and padding the statements, it is to be checked whether all statements are in English. All non-English statements shall be dropped from the DataFrame. To check the language of a statement, the library 'langdetect' is used. langdetect returns the language of a string."
   ]
  },
  {
   "cell_type": "code",
   "execution_count": 13,
   "metadata": {},
   "outputs": [],
   "source": [
    "data_lang = data_removedflip.copy()\n",
    "\n",
    "data_lang[\"lang\"] = data_removedflip[\"statement\"].apply(detect)"
   ]
  },
  {
   "cell_type": "code",
   "execution_count": 14,
   "metadata": {},
   "outputs": [
    {
     "data": {
      "text/plain": [
       "en    16177\n",
       "es      484\n",
       "da       15\n",
       "nl       13\n",
       "fr       12\n",
       "ca       12\n",
       "af        9\n",
       "de        7\n",
       "no        7\n",
       "sv        6\n",
       "et        6\n",
       "it        5\n",
       "tl        4\n",
       "pt        3\n",
       "id        2\n",
       "hu        1\n",
       "ro        1\n",
       "sk        1\n",
       "cy        1\n",
       "Name: lang, dtype: int64"
      ]
     },
     "execution_count": 14,
     "metadata": {},
     "output_type": "execute_result"
    }
   ],
   "source": [
    "data_lang[\"lang\"].value_counts()"
   ]
  },
  {
   "cell_type": "markdown",
   "metadata": {},
   "source": [
    "All rows which were detected to be non-English should be removed from the DataFrame without further checking. As the majority (about 94%) of all statements are classified to be English, not much data is lost."
   ]
  },
  {
   "cell_type": "code",
   "execution_count": 15,
   "metadata": {},
   "outputs": [],
   "source": [
    "data_eng = data_lang[data_lang[\"lang\"] == \"en\"]"
   ]
  },
  {
   "cell_type": "code",
   "execution_count": 16,
   "metadata": {},
   "outputs": [
    {
     "data": {
      "text/plain": [
       "True"
      ]
     },
     "execution_count": 16,
     "metadata": {},
     "output_type": "execute_result"
    }
   ],
   "source": [
    "data_eng.shape[0] == sum(data_lang[\"lang\"] == \"en\")"
   ]
  },
  {
   "cell_type": "markdown",
   "metadata": {},
   "source": [
    "As we do not need the column 'lang' for further processing, we can drop it and move on with a simplified dataset."
   ]
  },
  {
   "cell_type": "code",
   "execution_count": 17,
   "metadata": {},
   "outputs": [],
   "source": [
    "data_cleanedlang = data_eng.drop([\"lang\"], axis=1)"
   ]
  },
  {
   "cell_type": "markdown",
   "metadata": {},
   "source": [
    "### Handle missing values"
   ]
  },
  {
   "cell_type": "markdown",
   "metadata": {},
   "source": [
    "The info()-method outputs some basic info of the DataFrame. As seen in the output below, column 'channel' misses some values. There are many ways how to deal with missing values."
   ]
  },
  {
   "cell_type": "code",
   "execution_count": 18,
   "metadata": {},
   "outputs": [
    {
     "name": "stdout",
     "output_type": "stream",
     "text": [
      "<class 'pandas.core.frame.DataFrame'>\n",
      "Int64Index: 16177 entries, 0 to 16925\n",
      "Data columns (total 5 columns):\n",
      " #   Column     Non-Null Count  Dtype \n",
      "---  ------     --------------  ----- \n",
      " 0   statement  16177 non-null  object\n",
      " 1   issue      16177 non-null  object\n",
      " 2   person     16177 non-null  object\n",
      " 3   channel    16116 non-null  object\n",
      " 4   truth      16177 non-null  object\n",
      "dtypes: object(5)\n",
      "memory usage: 758.3+ KB\n"
     ]
    }
   ],
   "source": [
    "data_cleanedlang.info()"
   ]
  },
  {
   "cell_type": "markdown",
   "metadata": {},
   "source": [
    "Two options are considered: either deleting the rows and therefore reduce the dataset or fill the missing values with 'Other' and keep the rows. Both options do not contribute in gaining information, but at least the second option does not lose information. So this procedure is preferred."
   ]
  },
  {
   "cell_type": "code",
   "execution_count": 19,
   "metadata": {},
   "outputs": [],
   "source": [
    "data_mv = data_cleanedlang.fillna(\"Other\")"
   ]
  },
  {
   "cell_type": "code",
   "execution_count": 20,
   "metadata": {},
   "outputs": [
    {
     "name": "stdout",
     "output_type": "stream",
     "text": [
      "<class 'pandas.core.frame.DataFrame'>\n",
      "Int64Index: 16177 entries, 0 to 16925\n",
      "Data columns (total 5 columns):\n",
      " #   Column     Non-Null Count  Dtype \n",
      "---  ------     --------------  ----- \n",
      " 0   statement  16177 non-null  object\n",
      " 1   issue      16177 non-null  object\n",
      " 2   person     16177 non-null  object\n",
      " 3   channel    16177 non-null  object\n",
      " 4   truth      16177 non-null  object\n",
      "dtypes: object(5)\n",
      "memory usage: 758.3+ KB\n"
     ]
    }
   ],
   "source": [
    "data_mv.info()"
   ]
  },
  {
   "cell_type": "markdown",
   "metadata": {},
   "source": [
    "As seen in the output of info() now there are no more missing values in the dataset."
   ]
  },
  {
   "cell_type": "markdown",
   "metadata": {},
   "source": [
    "### Summarize 'channel'"
   ]
  },
  {
   "cell_type": "markdown",
   "metadata": {},
   "source": [
    "As already seen in data understanding, there are different the statements were made on. Unfortunately, those channel are not standardized in any way."
   ]
  },
  {
   "cell_type": "code",
   "execution_count": 21,
   "metadata": {},
   "outputs": [
    {
     "data": {
      "text/plain": [
       "3137"
      ]
     },
     "execution_count": 21,
     "metadata": {},
     "output_type": "execute_result"
    }
   ],
   "source": [
    "len(data_mv[\"channel\"].unique())"
   ]
  },
  {
   "cell_type": "markdown",
   "metadata": {},
   "source": [
    "As seen by the previous output there are currently 3136 different channels. This number is quite high and should be reduced to a reasonable amount of channels. Based on previous, manual insights the most important some channels can already be defined."
   ]
  },
  {
   "cell_type": "code",
   "execution_count": 22,
   "metadata": {},
   "outputs": [],
   "source": [
    "channels = [\"Facebook\", \"Instagram\", \"TikTok\", \"Threads\", \"X\", \"interview\", \"speech\", \"ad\", \"debate\", \"blog\", \"press\", \"campaign\", \n",
    "            \"TV\", \"radio\", \"video\", \"social media\", \"article\", \"lecture\", \"talk\", \"presentation\", \"mail\", \"podcast\"]"
   ]
  },
  {
   "cell_type": "markdown",
   "metadata": {},
   "source": [
    "A function was implemented to scan through the column 'channel' and replace the content of every cell containing a certain keyword with the keyword for this respective channel. So for e.g. every cell containing the word 'Facebook' in all possible variations should be replaced by only the simple word 'Facebook'. This is done for all channels which are already defined. All other cells are replaced by \"Other\" as the channel might be too specific."
   ]
  },
  {
   "cell_type": "code",
   "execution_count": 23,
   "metadata": {},
   "outputs": [],
   "source": [
    "data_channel = data_mv.copy()\n",
    "\n",
    "for ch in channels:\n",
    "    data_channel[\"channel\"] = replaceChannel(data_channel, ch)\n",
    "\n",
    "    if ch == \"X\":\n",
    "        data_channel[\"channel\"] = replaceChannel(data_channel, ch, \"Twitter\")\n",
    "        data_channel[\"channel\"] = replaceChannel(data_channel, ch, \"twitter\")\n",
    "        data_channel[\"channel\"] = replaceChannel(data_channel, ch, \"Tweet\")\n",
    "        data_channel[\"channel\"] = replaceChannel(data_channel, ch, \"tweet\")\n",
    "        data_channel[\"channel\"] = replaceChannel(data_channel, ch, \"x\")\n",
    "    if ch == \"social media\":\n",
    "        data_channel[\"channel\"] = replaceChannel(data_channel, ch, \"post\")\n",
    "    if ch == \"TV\":\n",
    "        data_channel[\"channel\"] = replaceChannel(data_channel, ch, \"CNN\")\n",
    "        data_channel[\"channel\"] = replaceChannel(data_channel, ch, \"Fox\")\n",
    "    if ch == \"campaign\":\n",
    "        data_channel[\"channel\"] = replaceChannel(data_channel, ch, \"rally\")\n",
    "        data_channel[\"channel\"] = replaceChannel(data_channel, ch, \"Campaign\")\n",
    "    if ch == \"speech\":\n",
    "        data_channel[\"channel\"] = replaceChannel(data_channel, ch, \"Speech\")\n",
    "    if ch == \"press\":\n",
    "        data_channel[\"channel\"] = replaceChannel(data_channel, ch, \"newsletter\")\n",
    "\n",
    "data_channel.loc[~data_channel[\"channel\"].isin(channels), \"channel\"] = \"Other\"\n"
   ]
  },
  {
   "cell_type": "markdown",
   "metadata": {},
   "source": [
    "Now, only the channels that have been defined earlier are left in column 'channel'."
   ]
  },
  {
   "cell_type": "code",
   "execution_count": 24,
   "metadata": {},
   "outputs": [
    {
     "data": {
      "text/plain": [
       "['X',\n",
       " 'Instagram',\n",
       " 'Facebook',\n",
       " 'debate',\n",
       " 'press',\n",
       " 'ad',\n",
       " 'Other',\n",
       " 'interview',\n",
       " 'campaign',\n",
       " 'blog',\n",
       " 'speech',\n",
       " 'social media',\n",
       " 'video',\n",
       " 'TikTok',\n",
       " 'TV',\n",
       " 'mail',\n",
       " 'article',\n",
       " 'podcast',\n",
       " 'talk',\n",
       " 'lecture',\n",
       " 'presentation']"
      ]
     },
     "execution_count": 24,
     "metadata": {},
     "output_type": "execute_result"
    }
   ],
   "source": [
    "data_channel[\"channel\"].unique().tolist()"
   ]
  },
  {
   "cell_type": "code",
   "execution_count": 25,
   "metadata": {},
   "outputs": [
    {
     "data": {
      "text/plain": [
       "channel\n",
       "Facebook        2368\n",
       "Instagram        985\n",
       "Other           2592\n",
       "TV               241\n",
       "TikTok           113\n",
       "X               2029\n",
       "ad              1863\n",
       "article          134\n",
       "blog             172\n",
       "campaign         484\n",
       "debate           659\n",
       "interview       1733\n",
       "lecture            2\n",
       "mail             204\n",
       "podcast           21\n",
       "presentation      14\n",
       "press            518\n",
       "social media     660\n",
       "speech          1089\n",
       "talk              14\n",
       "video            282\n",
       "dtype: int64"
      ]
     },
     "execution_count": 25,
     "metadata": {},
     "output_type": "execute_result"
    }
   ],
   "source": [
    "data_channel[[\"channel\"]].groupby(\"channel\").size()"
   ]
  },
  {
   "cell_type": "markdown",
   "metadata": {},
   "source": [
    "Currently, the column 'channel' contains all the channels listed in the output above. The channels are represented by strings which are not usable in a machine learning model so the string have to be converted into a numerical representations. This can be done by one-hot-encoding which creates a column for every characteristic of 'channel' and assigns the number '1' only to the column of the channel the statement was made on. All other channels receive the value '0'. "
   ]
  },
  {
   "cell_type": "code",
   "execution_count": 26,
   "metadata": {},
   "outputs": [],
   "source": [
    "data_channel_enc = pd.get_dummies(data_channel, columns=[\"channel\"], prefix=\"channel\", drop_first=True)"
   ]
  },
  {
   "cell_type": "markdown",
   "metadata": {},
   "source": [
    "As a result of one-hot-encoding there are many more columns compared to the original DataFrame structure."
   ]
  },
  {
   "cell_type": "code",
   "execution_count": 27,
   "metadata": {},
   "outputs": [
    {
     "name": "stdout",
     "output_type": "stream",
     "text": [
      "Columns (original structure): 5\n",
      "Columns (encoded structure): 24\n"
     ]
    }
   ],
   "source": [
    "print(f\"Columns (original structure): {data_channel.shape[1]}\")\n",
    "print(f\"Columns (encoded structure): {data_channel_enc.shape[1]}\")"
   ]
  },
  {
   "cell_type": "code",
   "execution_count": 28,
   "metadata": {},
   "outputs": [
    {
     "data": {
      "text/plain": [
       "['statement',\n",
       " 'issue',\n",
       " 'person',\n",
       " 'truth',\n",
       " 'channel_Instagram',\n",
       " 'channel_Other',\n",
       " 'channel_TV',\n",
       " 'channel_TikTok',\n",
       " 'channel_X',\n",
       " 'channel_ad',\n",
       " 'channel_article',\n",
       " 'channel_blog',\n",
       " 'channel_campaign',\n",
       " 'channel_debate',\n",
       " 'channel_interview',\n",
       " 'channel_lecture',\n",
       " 'channel_mail',\n",
       " 'channel_podcast',\n",
       " 'channel_presentation',\n",
       " 'channel_press',\n",
       " 'channel_social media',\n",
       " 'channel_speech',\n",
       " 'channel_talk',\n",
       " 'channel_video']"
      ]
     },
     "execution_count": 28,
     "metadata": {},
     "output_type": "execute_result"
    }
   ],
   "source": [
    "data_channel_enc.columns.to_list()"
   ]
  },
  {
   "cell_type": "markdown",
   "metadata": {},
   "source": [
    "### Handle 'person' and 'issue'"
   ]
  },
  {
   "cell_type": "markdown",
   "metadata": {},
   "source": [
    "In this section it is evaluated whether the column 'person' can be preprocessed in any way.\n",
    "\n",
    "The dataset contains 2765 different persons which a bit less than the number of channels before preprocessing but still too many to extract useful information."
   ]
  },
  {
   "cell_type": "code",
   "execution_count": 29,
   "metadata": {},
   "outputs": [
    {
     "data": {
      "text/plain": [
       "2766"
      ]
     },
     "execution_count": 29,
     "metadata": {},
     "output_type": "execute_result"
    }
   ],
   "source": [
    "len(data_channel_enc[\"person\"].unique())"
   ]
  },
  {
   "cell_type": "markdown",
   "metadata": {},
   "source": [
    "One way of 'cleaning' this column can be to replace the name of person with the party they are associated with. Even though the sample size was quite small in the previous notebook data understanding, there was a correlation between member of a party and the probability of true/false statements. Member of the Republican party tend to have a higher probability of saying false statements, while members of the Democratic party tend to have a higher chance of saying true statements.\n",
    "So coming back to preprocessing, this would mean that for e.g. the name 'Donald Trump' would be replaced with 'Republican', the name 'Barack Obama' would be replaced with 'Democrat'. \n",
    "\n",
    "Still, 2765 persons are still too much so manually assign them to a party. As it needs reliable sources to assign every person to a party, the column 'person' should not be considered as a feature and is therefore dropped from the dataset."
   ]
  },
  {
   "cell_type": "code",
   "execution_count": 30,
   "metadata": {},
   "outputs": [],
   "source": [
    "data_dropped = data_channel_enc.drop([\"person\", \"issue\"], axis=1)"
   ]
  },
  {
   "cell_type": "markdown",
   "metadata": {},
   "source": [
    "### Binarize 'truth'"
   ]
  },
  {
   "cell_type": "markdown",
   "metadata": {},
   "source": [
    "Now, the target variable 'truth' should be converted to boolean value. As already said in data understanding, the target variable 'truth' can take on different characteristics. Specifically, it can take on one of the values of 'pants-fire', 'false', 'barely-true', 'half-true', 'mostly-true' and 'true'. The machine learning model to be trained should only predict whether a statement is rather true or rather false, so the target variable has to be binarized. \n",
    "\n",
    "The following allocation will be considered:"
   ]
  },
  {
   "cell_type": "code",
   "execution_count": 31,
   "metadata": {},
   "outputs": [],
   "source": [
    "true = [\"true\", \"mostly-true\", \"half-true\"]\n",
    "false = [\"barely-true\", \"false\", \"pants-fire\"]"
   ]
  },
  {
   "cell_type": "markdown",
   "metadata": {},
   "source": [
    "To check whether only the previously named truth characteristics are valid, the unique values should be printed."
   ]
  },
  {
   "cell_type": "code",
   "execution_count": 32,
   "metadata": {},
   "outputs": [
    {
     "data": {
      "text/plain": [
       "array(['false', 'pants-fire', 'half-true', 'barely-true', 'mostly-true',\n",
       "       'true'], dtype=object)"
      ]
     },
     "execution_count": 32,
     "metadata": {},
     "output_type": "execute_result"
    }
   ],
   "source": [
    "data_dropped[\"truth\"].unique()"
   ]
  },
  {
   "cell_type": "markdown",
   "metadata": {},
   "source": [
    "The target variable 'truth' is now replaced based on the defined lists for true and false values. Statements which will be classified in the 'true' range, receive value 1 as target. Statements which will be classified in the 'false' range, receive value 0 as target."
   ]
  },
  {
   "cell_type": "code",
   "execution_count": 33,
   "metadata": {},
   "outputs": [],
   "source": [
    "data_binary = data_dropped.copy()\n",
    "data_binary[\"truth\"] = data_binary[\"truth\"].replace(true, 1)\n",
    "data_binary[\"truth\"] = data_binary[\"truth\"].replace(false, 0)"
   ]
  },
  {
   "cell_type": "markdown",
   "metadata": {},
   "source": [
    "As seen below, the values are not distributed evenly. This issue has to be taken on in the next step as it is required to balance out the dataset to prevent bias in the model."
   ]
  },
  {
   "cell_type": "code",
   "execution_count": 34,
   "metadata": {},
   "outputs": [
    {
     "data": {
      "text/plain": [
       "0    10081\n",
       "1     6096\n",
       "Name: truth, dtype: int64"
      ]
     },
     "execution_count": 34,
     "metadata": {},
     "output_type": "execute_result"
    }
   ],
   "source": [
    "data_binary[\"truth\"].value_counts()"
   ]
  },
  {
   "cell_type": "markdown",
   "metadata": {},
   "source": [
    "### Balance dataset"
   ]
  },
  {
   "cell_type": "markdown",
   "metadata": {},
   "source": [
    "There are two popular ways to balance out a dataset to achieve an even distribution between two classes.\n",
    "\n",
    "First option is to oversample. Oversampling means to copy random entries from the class with less occurences until there are as many samples in both classes. The advantage when using oversampling is that no data is lost. Unfortunately, biases can be reproduced and even reinforced by multiplying samples.\n",
    "\n",
    "Second options is to undersample. Undersampling is the opposite of oversampling. So, instead of multiplying samples of the lower class until both classes are even, this time samples from the class with more occurences are deleted until both classes are balanced out. This leads to the loss of data which is not a good option to consider as we might lose out on relevant information. \n",
    "\n",
    "So oversampling is used to balance out the data."
   ]
  },
  {
   "cell_type": "code",
   "execution_count": 35,
   "metadata": {},
   "outputs": [],
   "source": [
    "ros = RandomOverSampler(random_state=42)"
   ]
  },
  {
   "cell_type": "markdown",
   "metadata": {},
   "source": [
    "Before starting to resample, the data has to be splitted into X and y. X containing all features, y containing only the target variable 'truth'."
   ]
  },
  {
   "cell_type": "code",
   "execution_count": 36,
   "metadata": {},
   "outputs": [],
   "source": [
    "X = data_binary.drop([\"truth\"], axis=1)\n",
    "y = data_binary[\"truth\"]"
   ]
  },
  {
   "cell_type": "markdown",
   "metadata": {},
   "source": [
    "Currently, there are 6095 samples of class '1' (or in this context: true statements), while there are 10085 samples of class '0' (false statements)"
   ]
  },
  {
   "cell_type": "code",
   "execution_count": 37,
   "metadata": {},
   "outputs": [
    {
     "data": {
      "text/plain": [
       "0    10081\n",
       "1     6096\n",
       "Name: truth, dtype: int64"
      ]
     },
     "execution_count": 37,
     "metadata": {},
     "output_type": "execute_result"
    }
   ],
   "source": [
    "y.value_counts()"
   ]
  },
  {
   "cell_type": "markdown",
   "metadata": {},
   "source": [
    "Now, the data is resampled randomly with replacement. That means, that from the minority class '1', a random sample is chosen and copied until the both classes have the same number of samples."
   ]
  },
  {
   "cell_type": "code",
   "execution_count": 38,
   "metadata": {},
   "outputs": [],
   "source": [
    "X_resampled, y_resampled = ros.fit_resample(X, y)"
   ]
  },
  {
   "cell_type": "markdown",
   "metadata": {},
   "source": [
    "After oversampling, the dataset is now balanced out and be further prepared for training."
   ]
  },
  {
   "cell_type": "code",
   "execution_count": 39,
   "metadata": {},
   "outputs": [
    {
     "data": {
      "text/plain": [
       "0    10081\n",
       "1    10081\n",
       "Name: truth, dtype: int64"
      ]
     },
     "execution_count": 39,
     "metadata": {},
     "output_type": "execute_result"
    }
   ],
   "source": [
    "y_resampled.value_counts()"
   ]
  },
  {
   "cell_type": "code",
   "execution_count": 40,
   "metadata": {},
   "outputs": [],
   "source": [
    "data_balanced = X_resampled.copy()\n",
    "\n",
    "data_balanced[\"truth\"] = y_resampled"
   ]
  },
  {
   "cell_type": "markdown",
   "metadata": {},
   "source": [
    "### Tokenization of 'statement'"
   ]
  },
  {
   "cell_type": "markdown",
   "metadata": {},
   "source": [
    "To make the statements usable for a machine learning model, the strings have to be converted into a numerical representation.\n",
    "\n",
    "... -> Inhalte aus der Vorlesung einfügen!"
   ]
  },
  {
   "cell_type": "code",
   "execution_count": 41,
   "metadata": {},
   "outputs": [],
   "source": [
    "data_balanced[\"statement\"] = data_balanced[\"statement\"].str.lower().str.replace(r'[^a-zA-Z0-9 ]',\"\", regex=True).astype(\"str\")"
   ]
  },
  {
   "cell_type": "code",
   "execution_count": 42,
   "metadata": {},
   "outputs": [
    {
     "data": {
      "text/html": [
       "<div>\n",
       "<style scoped>\n",
       "    .dataframe tbody tr th:only-of-type {\n",
       "        vertical-align: middle;\n",
       "    }\n",
       "\n",
       "    .dataframe tbody tr th {\n",
       "        vertical-align: top;\n",
       "    }\n",
       "\n",
       "    .dataframe thead th {\n",
       "        text-align: right;\n",
       "    }\n",
       "</style>\n",
       "<table border=\"1\" class=\"dataframe\">\n",
       "  <thead>\n",
       "    <tr style=\"text-align: right;\">\n",
       "      <th></th>\n",
       "      <th>statement</th>\n",
       "      <th>truth</th>\n",
       "    </tr>\n",
       "  </thead>\n",
       "  <tbody>\n",
       "    <tr>\n",
       "      <th>0</th>\n",
       "      <td>says sen bob casey dpa is trying to change the...</td>\n",
       "      <td>0</td>\n",
       "    </tr>\n",
       "    <tr>\n",
       "      <th>1</th>\n",
       "      <td>says the election results are suspicious becau...</td>\n",
       "      <td>0</td>\n",
       "    </tr>\n",
       "    <tr>\n",
       "      <th>2</th>\n",
       "      <td>a ballot dump around 4 am in milwaukee shows t...</td>\n",
       "      <td>0</td>\n",
       "    </tr>\n",
       "    <tr>\n",
       "      <th>3</th>\n",
       "      <td>kari lake is threatening social security and m...</td>\n",
       "      <td>1</td>\n",
       "    </tr>\n",
       "    <tr>\n",
       "      <th>4</th>\n",
       "      <td>republican senate candidate sam brown wants to...</td>\n",
       "      <td>1</td>\n",
       "    </tr>\n",
       "  </tbody>\n",
       "</table>\n",
       "</div>"
      ],
      "text/plain": [
       "                                           statement  truth\n",
       "0  says sen bob casey dpa is trying to change the...      0\n",
       "1  says the election results are suspicious becau...      0\n",
       "2  a ballot dump around 4 am in milwaukee shows t...      0\n",
       "3  kari lake is threatening social security and m...      1\n",
       "4  republican senate candidate sam brown wants to...      1"
      ]
     },
     "execution_count": 42,
     "metadata": {},
     "output_type": "execute_result"
    }
   ],
   "source": [
    "data_balanced[[\"statement\", \"truth\"]].head()"
   ]
  },
  {
   "cell_type": "code",
   "execution_count": 43,
   "metadata": {},
   "outputs": [],
   "source": [
    "from tensorflow.keras.preprocessing.text import Tokenizer\n",
    "from tensorflow.keras.preprocessing.sequence import pad_sequences"
   ]
  },
  {
   "cell_type": "markdown",
   "metadata": {},
   "source": [
    "Now, it is assumed that there are only English statements left in the data. Thus, the statements can now be tokenized using keras.Tokenizer which transforms the statements into a list of integers."
   ]
  },
  {
   "cell_type": "code",
   "execution_count": 44,
   "metadata": {},
   "outputs": [],
   "source": [
    "NUM_WORDS=3000"
   ]
  },
  {
   "cell_type": "code",
   "execution_count": 45,
   "metadata": {},
   "outputs": [],
   "source": [
    "data_token = data_balanced.copy()\n",
    "\n",
    "token = Tokenizer(num_words=NUM_WORDS)\n",
    "statements = data_balanced[\"statement\"].to_list()\n",
    "token.fit_on_texts(statements)\n",
    "data_token[\"token\"] = token.texts_to_sequences(statements)"
   ]
  },
  {
   "cell_type": "code",
   "execution_count": 46,
   "metadata": {},
   "outputs": [
    {
     "data": {
      "text/html": [
       "<div>\n",
       "<style scoped>\n",
       "    .dataframe tbody tr th:only-of-type {\n",
       "        vertical-align: middle;\n",
       "    }\n",
       "\n",
       "    .dataframe tbody tr th {\n",
       "        vertical-align: top;\n",
       "    }\n",
       "\n",
       "    .dataframe thead th {\n",
       "        text-align: right;\n",
       "    }\n",
       "</style>\n",
       "<table border=\"1\" class=\"dataframe\">\n",
       "  <thead>\n",
       "    <tr style=\"text-align: right;\">\n",
       "      <th></th>\n",
       "      <th>statement</th>\n",
       "      <th>token</th>\n",
       "      <th>truth</th>\n",
       "    </tr>\n",
       "  </thead>\n",
       "  <tbody>\n",
       "    <tr>\n",
       "      <th>0</th>\n",
       "      <td>says sen bob casey dpa is trying to change the...</td>\n",
       "      <td>[9, 185, 1896, 2942, 8, 488, 3, 271, 1, 4, 1, ...</td>\n",
       "      <td>0</td>\n",
       "    </tr>\n",
       "    <tr>\n",
       "      <th>1</th>\n",
       "      <td>says the election results are suspicious becau...</td>\n",
       "      <td>[9, 1, 192, 2498, 12, 67, 637, 28, 185, 691, 7...</td>\n",
       "      <td>0</td>\n",
       "    </tr>\n",
       "    <tr>\n",
       "      <th>2</th>\n",
       "      <td>a ballot dump around 4 am in milwaukee shows t...</td>\n",
       "      <td>[5, 861, 2755, 404, 398, 1144, 2, 263, 64, 1, ...</td>\n",
       "      <td>0</td>\n",
       "    </tr>\n",
       "    <tr>\n",
       "      <th>3</th>\n",
       "      <td>kari lake is threatening social security and m...</td>\n",
       "      <td>[1897, 1177, 8, 2637, 108, 99, 6, 115]</td>\n",
       "      <td>1</td>\n",
       "    </tr>\n",
       "    <tr>\n",
       "      <th>4</th>\n",
       "      <td>republican senate candidate sam brown wants to...</td>\n",
       "      <td>[150, 147, 260, 504, 151, 3, 109, 213, 6, 108,...</td>\n",
       "      <td>1</td>\n",
       "    </tr>\n",
       "  </tbody>\n",
       "</table>\n",
       "</div>"
      ],
      "text/plain": [
       "                                           statement  \\\n",
       "0  says sen bob casey dpa is trying to change the...   \n",
       "1  says the election results are suspicious becau...   \n",
       "2  a ballot dump around 4 am in milwaukee shows t...   \n",
       "3  kari lake is threatening social security and m...   \n",
       "4  republican senate candidate sam brown wants to...   \n",
       "\n",
       "                                               token  truth  \n",
       "0  [9, 185, 1896, 2942, 8, 488, 3, 271, 1, 4, 1, ...      0  \n",
       "1  [9, 1, 192, 2498, 12, 67, 637, 28, 185, 691, 7...      0  \n",
       "2  [5, 861, 2755, 404, 398, 1144, 2, 263, 64, 1, ...      0  \n",
       "3             [1897, 1177, 8, 2637, 108, 99, 6, 115]      1  \n",
       "4  [150, 147, 260, 504, 151, 3, 109, 213, 6, 108,...      1  "
      ]
     },
     "execution_count": 46,
     "metadata": {},
     "output_type": "execute_result"
    }
   ],
   "source": [
    "data_token[[\"statement\", \"token\", \"truth\"]].head()"
   ]
  },
  {
   "cell_type": "markdown",
   "metadata": {},
   "source": [
    "As seen in the previous output, not all list of tokens have the same size. To make all tokens the same size, the tokenized statements have to be padded with '0' until they all reach the same length."
   ]
  },
  {
   "cell_type": "code",
   "execution_count": 47,
   "metadata": {},
   "outputs": [
    {
     "data": {
      "text/plain": [
       "count    20162.000000\n",
       "mean        15.693185\n",
       "std          7.245064\n",
       "min          1.000000\n",
       "25%         10.000000\n",
       "50%         14.000000\n",
       "75%         20.000000\n",
       "max         57.000000\n",
       "Name: token, dtype: float64"
      ]
     },
     "execution_count": 47,
     "metadata": {},
     "output_type": "execute_result"
    }
   ],
   "source": [
    "data_token[\"token\"].apply(len).describe()"
   ]
  },
  {
   "cell_type": "code",
   "execution_count": 48,
   "metadata": {},
   "outputs": [],
   "source": [
    "MAX_TOKEN = 57"
   ]
  },
  {
   "cell_type": "markdown",
   "metadata": {},
   "source": [
    "### Padding of sequences"
   ]
  },
  {
   "cell_type": "markdown",
   "metadata": {},
   "source": [
    "The longest tokenized statement is given by the maximum value of the previous output which shows the descriptive statistics of the length of all tokenized, but not yet padded statements. The maximum is at 57 which means all statemtents have to be padded to a uniformal length of 57."
   ]
  },
  {
   "cell_type": "code",
   "execution_count": 49,
   "metadata": {},
   "outputs": [],
   "source": [
    "padded = pad_sequences(data_token[\"token\"].to_list())\n",
    "\n",
    "data_padded = data_token.copy()\n",
    "data_padded[\"token\"] = padded.tolist()"
   ]
  },
  {
   "cell_type": "markdown",
   "metadata": {},
   "source": [
    "After padding the tokenized statements, there are many zeros at the beginning. This is called pre-padding."
   ]
  },
  {
   "cell_type": "code",
   "execution_count": 50,
   "metadata": {},
   "outputs": [
    {
     "data": {
      "text/html": [
       "<div>\n",
       "<style scoped>\n",
       "    .dataframe tbody tr th:only-of-type {\n",
       "        vertical-align: middle;\n",
       "    }\n",
       "\n",
       "    .dataframe tbody tr th {\n",
       "        vertical-align: top;\n",
       "    }\n",
       "\n",
       "    .dataframe thead th {\n",
       "        text-align: right;\n",
       "    }\n",
       "</style>\n",
       "<table border=\"1\" class=\"dataframe\">\n",
       "  <thead>\n",
       "    <tr style=\"text-align: right;\">\n",
       "      <th></th>\n",
       "      <th>statement</th>\n",
       "      <th>token</th>\n",
       "      <th>truth</th>\n",
       "    </tr>\n",
       "  </thead>\n",
       "  <tbody>\n",
       "    <tr>\n",
       "      <th>0</th>\n",
       "      <td>says sen bob casey dpa is trying to change the...</td>\n",
       "      <td>[0, 0, 0, 0, 0, 0, 0, 0, 0, 0, 0, 0, 0, 0, 0, ...</td>\n",
       "      <td>0</td>\n",
       "    </tr>\n",
       "    <tr>\n",
       "      <th>1</th>\n",
       "      <td>says the election results are suspicious becau...</td>\n",
       "      <td>[0, 0, 0, 0, 0, 0, 0, 0, 0, 0, 0, 0, 0, 0, 0, ...</td>\n",
       "      <td>0</td>\n",
       "    </tr>\n",
       "    <tr>\n",
       "      <th>2</th>\n",
       "      <td>a ballot dump around 4 am in milwaukee shows t...</td>\n",
       "      <td>[0, 0, 0, 0, 0, 0, 0, 0, 0, 0, 0, 0, 0, 0, 0, ...</td>\n",
       "      <td>0</td>\n",
       "    </tr>\n",
       "    <tr>\n",
       "      <th>3</th>\n",
       "      <td>kari lake is threatening social security and m...</td>\n",
       "      <td>[0, 0, 0, 0, 0, 0, 0, 0, 0, 0, 0, 0, 0, 0, 0, ...</td>\n",
       "      <td>1</td>\n",
       "    </tr>\n",
       "    <tr>\n",
       "      <th>4</th>\n",
       "      <td>republican senate candidate sam brown wants to...</td>\n",
       "      <td>[0, 0, 0, 0, 0, 0, 0, 0, 0, 0, 0, 0, 0, 0, 0, ...</td>\n",
       "      <td>1</td>\n",
       "    </tr>\n",
       "  </tbody>\n",
       "</table>\n",
       "</div>"
      ],
      "text/plain": [
       "                                           statement  \\\n",
       "0  says sen bob casey dpa is trying to change the...   \n",
       "1  says the election results are suspicious becau...   \n",
       "2  a ballot dump around 4 am in milwaukee shows t...   \n",
       "3  kari lake is threatening social security and m...   \n",
       "4  republican senate candidate sam brown wants to...   \n",
       "\n",
       "                                               token  truth  \n",
       "0  [0, 0, 0, 0, 0, 0, 0, 0, 0, 0, 0, 0, 0, 0, 0, ...      0  \n",
       "1  [0, 0, 0, 0, 0, 0, 0, 0, 0, 0, 0, 0, 0, 0, 0, ...      0  \n",
       "2  [0, 0, 0, 0, 0, 0, 0, 0, 0, 0, 0, 0, 0, 0, 0, ...      0  \n",
       "3  [0, 0, 0, 0, 0, 0, 0, 0, 0, 0, 0, 0, 0, 0, 0, ...      1  \n",
       "4  [0, 0, 0, 0, 0, 0, 0, 0, 0, 0, 0, 0, 0, 0, 0, ...      1  "
      ]
     },
     "execution_count": 50,
     "metadata": {},
     "output_type": "execute_result"
    }
   ],
   "source": [
    "data_padded[[\"statement\", \"token\", \"truth\"]].head()"
   ]
  },
  {
   "cell_type": "markdown",
   "metadata": {},
   "source": [
    "### Save processed training data"
   ]
  },
  {
   "cell_type": "code",
   "execution_count": 51,
   "metadata": {},
   "outputs": [],
   "source": [
    "data_padded.to_csv(\"data/processed.csv\", sep=\";\")"
   ]
  },
  {
   "cell_type": "markdown",
   "metadata": {},
   "source": [
    "### Preprocessing of validation & test data"
   ]
  },
  {
   "cell_type": "markdown",
   "metadata": {},
   "source": [
    "Validation and test data is not processed in a way the training data got processed as this data is handled like unseen data. Currently, the validation & test data does not comply with the structure of the training data. However, to being able to use the validation and test data, it has to be in a certain format and structure. In the following, the validation and test data which will be taken from 'LIAR' dataset is prepared for usage in the model to be created.\n",
    "\n",
    "All the processing steps are done only based on the knowledge found out in the process of preparing the training data. This prevents implementing a bias which already includes knowledge from the validation and test data which can and should not be known at this point."
   ]
  },
  {
   "cell_type": "code",
   "execution_count": 52,
   "metadata": {},
   "outputs": [],
   "source": [
    "test = pd.read_csv(\"data/LIAR.csv\", sep=\";\", index_col=0, header=None)"
   ]
  },
  {
   "cell_type": "code",
   "execution_count": 53,
   "metadata": {},
   "outputs": [
    {
     "data": {
      "text/html": [
       "<div>\n",
       "<style scoped>\n",
       "    .dataframe tbody tr th:only-of-type {\n",
       "        vertical-align: middle;\n",
       "    }\n",
       "\n",
       "    .dataframe tbody tr th {\n",
       "        vertical-align: top;\n",
       "    }\n",
       "\n",
       "    .dataframe thead th {\n",
       "        text-align: right;\n",
       "    }\n",
       "</style>\n",
       "<table border=\"1\" class=\"dataframe\">\n",
       "  <thead>\n",
       "    <tr style=\"text-align: right;\">\n",
       "      <th></th>\n",
       "      <th>1</th>\n",
       "      <th>2</th>\n",
       "      <th>3</th>\n",
       "      <th>4</th>\n",
       "      <th>5</th>\n",
       "      <th>6</th>\n",
       "      <th>7</th>\n",
       "      <th>8</th>\n",
       "      <th>9</th>\n",
       "      <th>10</th>\n",
       "      <th>11</th>\n",
       "      <th>12</th>\n",
       "      <th>13</th>\n",
       "      <th>14</th>\n",
       "    </tr>\n",
       "    <tr>\n",
       "      <th>0</th>\n",
       "      <th></th>\n",
       "      <th></th>\n",
       "      <th></th>\n",
       "      <th></th>\n",
       "      <th></th>\n",
       "      <th></th>\n",
       "      <th></th>\n",
       "      <th></th>\n",
       "      <th></th>\n",
       "      <th></th>\n",
       "      <th></th>\n",
       "      <th></th>\n",
       "      <th></th>\n",
       "      <th></th>\n",
       "    </tr>\n",
       "  </thead>\n",
       "  <tbody>\n",
       "    <tr>\n",
       "      <th>0</th>\n",
       "      <td>2635.json</td>\n",
       "      <td>false</td>\n",
       "      <td>Says the Annies List political group supports ...</td>\n",
       "      <td>abortion</td>\n",
       "      <td>dwayne-bohac</td>\n",
       "      <td>State representative</td>\n",
       "      <td>Texas</td>\n",
       "      <td>republican</td>\n",
       "      <td>0.0</td>\n",
       "      <td>1.0</td>\n",
       "      <td>0.0</td>\n",
       "      <td>0.0</td>\n",
       "      <td>0.0</td>\n",
       "      <td>a mailer</td>\n",
       "    </tr>\n",
       "    <tr>\n",
       "      <th>1</th>\n",
       "      <td>10540.json</td>\n",
       "      <td>half-true</td>\n",
       "      <td>When did the decline of coal start? It started...</td>\n",
       "      <td>energy,history,job-accomplishments</td>\n",
       "      <td>scott-surovell</td>\n",
       "      <td>State delegate</td>\n",
       "      <td>Virginia</td>\n",
       "      <td>democrat</td>\n",
       "      <td>0.0</td>\n",
       "      <td>0.0</td>\n",
       "      <td>1.0</td>\n",
       "      <td>1.0</td>\n",
       "      <td>0.0</td>\n",
       "      <td>a floor speech.</td>\n",
       "    </tr>\n",
       "    <tr>\n",
       "      <th>2</th>\n",
       "      <td>324.json</td>\n",
       "      <td>mostly-true</td>\n",
       "      <td>Hillary Clinton agrees with John McCain \"by vo...</td>\n",
       "      <td>foreign-policy</td>\n",
       "      <td>barack-obama</td>\n",
       "      <td>President</td>\n",
       "      <td>Illinois</td>\n",
       "      <td>democrat</td>\n",
       "      <td>70.0</td>\n",
       "      <td>71.0</td>\n",
       "      <td>160.0</td>\n",
       "      <td>163.0</td>\n",
       "      <td>9.0</td>\n",
       "      <td>Denver</td>\n",
       "    </tr>\n",
       "    <tr>\n",
       "      <th>3</th>\n",
       "      <td>1123.json</td>\n",
       "      <td>false</td>\n",
       "      <td>Health care reform legislation is likely to ma...</td>\n",
       "      <td>health-care</td>\n",
       "      <td>blog-posting</td>\n",
       "      <td>NaN</td>\n",
       "      <td>NaN</td>\n",
       "      <td>none</td>\n",
       "      <td>7.0</td>\n",
       "      <td>19.0</td>\n",
       "      <td>3.0</td>\n",
       "      <td>5.0</td>\n",
       "      <td>44.0</td>\n",
       "      <td>a news release</td>\n",
       "    </tr>\n",
       "    <tr>\n",
       "      <th>4</th>\n",
       "      <td>9028.json</td>\n",
       "      <td>half-true</td>\n",
       "      <td>The economic turnaround started at the end of ...</td>\n",
       "      <td>economy,jobs</td>\n",
       "      <td>charlie-crist</td>\n",
       "      <td>NaN</td>\n",
       "      <td>Florida</td>\n",
       "      <td>democrat</td>\n",
       "      <td>15.0</td>\n",
       "      <td>9.0</td>\n",
       "      <td>20.0</td>\n",
       "      <td>19.0</td>\n",
       "      <td>2.0</td>\n",
       "      <td>an interview on CNN</td>\n",
       "    </tr>\n",
       "  </tbody>\n",
       "</table>\n",
       "</div>"
      ],
      "text/plain": [
       "           1            2                                                  3   \\\n",
       "0                                                                               \n",
       "0   2635.json        false  Says the Annies List political group supports ...   \n",
       "1  10540.json    half-true  When did the decline of coal start? It started...   \n",
       "2    324.json  mostly-true  Hillary Clinton agrees with John McCain \"by vo...   \n",
       "3   1123.json        false  Health care reform legislation is likely to ma...   \n",
       "4   9028.json    half-true  The economic turnaround started at the end of ...   \n",
       "\n",
       "                                   4               5                     6   \\\n",
       "0                                                                             \n",
       "0                            abortion    dwayne-bohac  State representative   \n",
       "1  energy,history,job-accomplishments  scott-surovell        State delegate   \n",
       "2                      foreign-policy    barack-obama             President   \n",
       "3                         health-care    blog-posting                   NaN   \n",
       "4                        economy,jobs   charlie-crist                   NaN   \n",
       "\n",
       "         7           8     9     10     11     12    13                   14  \n",
       "0                                                                             \n",
       "0     Texas  republican   0.0   1.0    0.0    0.0   0.0             a mailer  \n",
       "1  Virginia    democrat   0.0   0.0    1.0    1.0   0.0      a floor speech.  \n",
       "2  Illinois    democrat  70.0  71.0  160.0  163.0   9.0               Denver  \n",
       "3       NaN        none   7.0  19.0    3.0    5.0  44.0       a news release  \n",
       "4   Florida    democrat  15.0   9.0   20.0   19.0   2.0  an interview on CNN  "
      ]
     },
     "execution_count": 53,
     "metadata": {},
     "output_type": "execute_result"
    }
   ],
   "source": [
    "test.head()"
   ]
  },
  {
   "cell_type": "markdown",
   "metadata": {},
   "source": [
    "First, all columns which do not contain similar information as in the training set are dropped."
   ]
  },
  {
   "cell_type": "code",
   "execution_count": 54,
   "metadata": {},
   "outputs": [],
   "source": [
    "test_dropped = test.drop([1, 6, 7, 8, 9, 10, 11, 12, 13], axis=1)"
   ]
  },
  {
   "cell_type": "markdown",
   "metadata": {},
   "source": [
    "To have a better overview over the data, the columns are renamed to comply with the training data structure."
   ]
  },
  {
   "cell_type": "code",
   "execution_count": 55,
   "metadata": {},
   "outputs": [],
   "source": [
    "test_dropped.columns = [\"truth\", \"statement\", \"issue\", \"person\", \"channel\"]"
   ]
  },
  {
   "cell_type": "markdown",
   "metadata": {},
   "source": [
    "After renaming, the data looks familiar. The column names are similar, also the structure inside the columns seems like the structure of the training data before processing."
   ]
  },
  {
   "cell_type": "code",
   "execution_count": 56,
   "metadata": {},
   "outputs": [
    {
     "data": {
      "text/html": [
       "<div>\n",
       "<style scoped>\n",
       "    .dataframe tbody tr th:only-of-type {\n",
       "        vertical-align: middle;\n",
       "    }\n",
       "\n",
       "    .dataframe tbody tr th {\n",
       "        vertical-align: top;\n",
       "    }\n",
       "\n",
       "    .dataframe thead th {\n",
       "        text-align: right;\n",
       "    }\n",
       "</style>\n",
       "<table border=\"1\" class=\"dataframe\">\n",
       "  <thead>\n",
       "    <tr style=\"text-align: right;\">\n",
       "      <th></th>\n",
       "      <th>truth</th>\n",
       "      <th>statement</th>\n",
       "      <th>issue</th>\n",
       "      <th>person</th>\n",
       "      <th>channel</th>\n",
       "    </tr>\n",
       "    <tr>\n",
       "      <th>0</th>\n",
       "      <th></th>\n",
       "      <th></th>\n",
       "      <th></th>\n",
       "      <th></th>\n",
       "      <th></th>\n",
       "    </tr>\n",
       "  </thead>\n",
       "  <tbody>\n",
       "    <tr>\n",
       "      <th>0</th>\n",
       "      <td>false</td>\n",
       "      <td>Says the Annies List political group supports ...</td>\n",
       "      <td>abortion</td>\n",
       "      <td>dwayne-bohac</td>\n",
       "      <td>a mailer</td>\n",
       "    </tr>\n",
       "    <tr>\n",
       "      <th>1</th>\n",
       "      <td>half-true</td>\n",
       "      <td>When did the decline of coal start? It started...</td>\n",
       "      <td>energy,history,job-accomplishments</td>\n",
       "      <td>scott-surovell</td>\n",
       "      <td>a floor speech.</td>\n",
       "    </tr>\n",
       "    <tr>\n",
       "      <th>2</th>\n",
       "      <td>mostly-true</td>\n",
       "      <td>Hillary Clinton agrees with John McCain \"by vo...</td>\n",
       "      <td>foreign-policy</td>\n",
       "      <td>barack-obama</td>\n",
       "      <td>Denver</td>\n",
       "    </tr>\n",
       "    <tr>\n",
       "      <th>3</th>\n",
       "      <td>false</td>\n",
       "      <td>Health care reform legislation is likely to ma...</td>\n",
       "      <td>health-care</td>\n",
       "      <td>blog-posting</td>\n",
       "      <td>a news release</td>\n",
       "    </tr>\n",
       "    <tr>\n",
       "      <th>4</th>\n",
       "      <td>half-true</td>\n",
       "      <td>The economic turnaround started at the end of ...</td>\n",
       "      <td>economy,jobs</td>\n",
       "      <td>charlie-crist</td>\n",
       "      <td>an interview on CNN</td>\n",
       "    </tr>\n",
       "  </tbody>\n",
       "</table>\n",
       "</div>"
      ],
      "text/plain": [
       "         truth                                          statement  \\\n",
       "0                                                                   \n",
       "0        false  Says the Annies List political group supports ...   \n",
       "1    half-true  When did the decline of coal start? It started...   \n",
       "2  mostly-true  Hillary Clinton agrees with John McCain \"by vo...   \n",
       "3        false  Health care reform legislation is likely to ma...   \n",
       "4    half-true  The economic turnaround started at the end of ...   \n",
       "\n",
       "                                issue          person              channel  \n",
       "0                                                                           \n",
       "0                            abortion    dwayne-bohac             a mailer  \n",
       "1  energy,history,job-accomplishments  scott-surovell      a floor speech.  \n",
       "2                      foreign-policy    barack-obama               Denver  \n",
       "3                         health-care    blog-posting       a news release  \n",
       "4                        economy,jobs   charlie-crist  an interview on CNN  "
      ]
     },
     "execution_count": 56,
     "metadata": {},
     "output_type": "execute_result"
    }
   ],
   "source": [
    "test_dropped.head()"
   ]
  },
  {
   "cell_type": "markdown",
   "metadata": {},
   "source": [
    "Following steps have to be done to achieve the same structure and format as the training data:\n",
    "- Drop non-English rows\n",
    "- Drop 'person' and 'issue'\n",
    "- Summarize and encode 'channel'\n",
    "- Binarize 'truth'\n",
    "- Tokenize and pad 'statement'\n",
    "\n",
    "As already said, all those steps are done using the same methods as done with the training data.\n",
    "To automate this process, a preprocessing pipeline should be implemented. Due to the time restriction and a different focus of this project, the creation of a data preprocessing pipeline will be dispensed with."
   ]
  },
  {
   "cell_type": "code",
   "execution_count": 57,
   "metadata": {},
   "outputs": [],
   "source": [
    "class preprocessData():\n",
    "    def __init__(self, data):\n",
    "        self.__data = data\n",
    "\n",
    "    def orchestrate(self):\n",
    "        print(\"Check Basics ...\", sep=' ', end='', flush=True) \n",
    "        data_b = self.__checkBasics(self.__data)\n",
    "        print(\" Finished Basics!\")\n",
    "        print(\"Check Language ...\", sep=' ', end='', flush=True) \n",
    "        data_l = self.__checkLanguage(data_b)\n",
    "        print(\" Finished Language!\")\n",
    "        print(\"Check 'person' ...\", sep=' ', end='', flush=True) \n",
    "        data_p = self.__checkPerson(data_l)\n",
    "        print(\" Finished 'person'!\")\n",
    "        print(\"Handle 'channel' ...\", sep=' ', end='', flush=True) \n",
    "        data_c = self.__handleChannel(data_p)\n",
    "        print(\" Finished handling of 'channel'!\")\n",
    "        print(\"Binarize 'truth' ...\", sep=' ', end='', flush=True) \n",
    "        data_t = self.__binarizeTruth(data_c)\n",
    "        print(\" Finished binarizing of 'truth'!\")\n",
    "        print(\"Tokenize 'statement' ...\", sep=' ', end='', flush=True) \n",
    "        data_result = self.__tokenizeStatement(data_t)\n",
    "        print(\" Finished tokenizing of 'statement'!\")\n",
    "\n",
    "        print(\"Finished preprocessing of data!\")\n",
    "        return data_result\n",
    "\n",
    "    def __checkBasics(self, data):\n",
    "        data.dropna(axis=0, subset=[\"truth\", \"statement\"])\n",
    "        return data\n",
    "\n",
    "    def __checkLanguage(self, data):\n",
    "        data[\"lang\"] = data[\"statement\"].apply(detect)\n",
    "        return data[data[\"lang\"]==\"en\"].drop([\"lang\"], axis=1)\n",
    "\n",
    "    def __checkPerson(self, data):\n",
    "        try:\n",
    "            return data.drop([\"person\"], axis=1)\n",
    "        except:\n",
    "            return data\n",
    "\n",
    "    def __handleChannel(self, data):\n",
    "        for ch in channels:\n",
    "            data[\"channel\"] = replaceChannel(data, ch)\n",
    "\n",
    "            if ch == \"X\":\n",
    "                data[\"channel\"] = replaceChannel(data, ch, \"Twitter\")\n",
    "                data[\"channel\"] = replaceChannel(data, ch, \"twitter\")\n",
    "                data[\"channel\"] = replaceChannel(data, ch, \"Tweet\")\n",
    "                data[\"channel\"] = replaceChannel(data, ch, \"tweet\")\n",
    "                data[\"channel\"] = replaceChannel(data, ch, \"x\")\n",
    "            if ch == \"social media\":\n",
    "                data[\"channel\"] = replaceChannel(data, ch, \"post\")\n",
    "            if ch == \"TV\":\n",
    "                data[\"channel\"] = replaceChannel(data, ch, \"CNN\")\n",
    "                data[\"channel\"] = replaceChannel(data, ch, \"Fox\")\n",
    "            if ch == \"campaign\":\n",
    "                data[\"channel\"] = replaceChannel(data, ch, \"rally\")\n",
    "                data[\"channel\"] = replaceChannel(data, ch, \"Campaign\")\n",
    "            if ch == \"speech\":\n",
    "                data[\"channel\"] = replaceChannel(data, ch, \"Speech\")\n",
    "            if ch == \"press\":\n",
    "                data[\"channel\"] = replaceChannel(data, ch, \"newsletter\")\n",
    "\n",
    "        data.loc[~data[\"channel\"].isin(channels), \"channel\"] = \"Other\"\n",
    "\n",
    "        return pd.get_dummies(data, columns=[\"channel\"], prefix=\"channel\", drop_first=True)\n",
    "\n",
    "    def __binarizeTruth(self, data):\n",
    "        data[\"truth\"] = data[\"truth\"].replace(true, 1)\n",
    "        data[\"truth\"] = data[\"truth\"].replace(false, 0)\n",
    "        return data\n",
    "\n",
    "    def __tokenizeStatement(self, data):\n",
    "        statements = data[\"statement\"].to_list()\n",
    "        data[\"token\"] = token.texts_to_sequences(statements)\n",
    "\n",
    "        padded = pad_sequences(data[\"token\"].to_list(), maxlen=MAX_TOKEN)\n",
    "\n",
    "        data[\"token\"] = padded.tolist()\n",
    "\n",
    "        return data"
   ]
  },
  {
   "cell_type": "code",
   "execution_count": 58,
   "metadata": {},
   "outputs": [
    {
     "name": "stdout",
     "output_type": "stream",
     "text": [
      "Check Basics ... Finished Basics!\n",
      "Check Language ... Finished Language!\n",
      "Check 'person' ... Finished 'person'!\n",
      "Handle 'channel' ... Finished handling of 'channel'!\n",
      "Binarize 'truth' ... Finished binarizing of 'truth'!\n",
      "Tokenize 'statement' ... Finished tokenizing of 'statement'!\n",
      "Finished preprocessing of data!\n"
     ]
    }
   ],
   "source": [
    "pipeline = preprocessData(test_dropped)\n",
    "test_processed = pipeline.orchestrate()"
   ]
  },
  {
   "cell_type": "code",
   "execution_count": 59,
   "metadata": {},
   "outputs": [],
   "source": [
    "test_processed.to_csv(\"data/LIAR_processed.csv\", sep=\";\")"
   ]
  }
 ],
 "metadata": {
  "kernelspec": {
   "display_name": "dsmml",
   "language": "python",
   "name": "python3"
  },
  "language_info": {
   "codemirror_mode": {
    "name": "ipython",
    "version": 3
   },
   "file_extension": ".py",
   "mimetype": "text/x-python",
   "name": "python",
   "nbconvert_exporter": "python",
   "pygments_lexer": "ipython3",
   "version": "3.10.13"
  }
 },
 "nbformat": 4,
 "nbformat_minor": 2
}
