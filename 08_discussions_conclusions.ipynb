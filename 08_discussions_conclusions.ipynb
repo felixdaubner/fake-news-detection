{
 "cells": [
  {
   "cell_type": "markdown",
   "metadata": {},
   "source": [
    "# Final Project: Fake News Detection\n",
    "\n",
    "By Felix Daubner - Hochschule der Medien\n",
    "\n",
    "Module 'Supervised and Unsupervised Learning' - Prof. Dr.-Ing. Johannes Maucher"
   ]
  },
  {
   "cell_type": "markdown",
   "metadata": {},
   "source": [
    "## Discussion and Conclusion"
   ]
  },
  {
   "cell_type": "markdown",
   "metadata": {},
   "source": [
    "- kein \"neues\" Projekt, sondern bereits vorhanden\n",
    "- daher zweites Modell unsupervised für Sentiment zur Aufstellung einer Hypothese welche über reine Fake News Klassifizierung hinaus geht\n",
    "- Drittes Modell: Sentiment, 'Rohdaten' wie Zeitpunkt, Kanal der Veröffentlichung, Person/Politiker der das gesagt hat etc. und dann Einklassifizierung in Fake News --> ohne die Aussage selbst?"
   ]
  },
  {
   "cell_type": "markdown",
   "metadata": {},
   "source": []
  }
 ],
 "metadata": {
  "language_info": {
   "name": "python"
  }
 },
 "nbformat": 4,
 "nbformat_minor": 2
}
