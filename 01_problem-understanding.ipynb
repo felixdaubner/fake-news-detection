{
 "cells": [
  {
   "cell_type": "markdown",
   "metadata": {},
   "source": [
    "# Final Project: Fake News Detection\n",
    "\n",
    "By Felix Daubner - Hochschule der Medien\n",
    "\n",
    "Module 'Supervised and Unsupervised Learning' - Prof. Dr.-Ing. Johannes Maucher"
   ]
  },
  {
   "cell_type": "markdown",
   "metadata": {},
   "source": [
    "## Problem Understanding\n",
    "\n",
    "Fake News are defined as 'made-up pieces of information or tales which are published with the goal of misleading readers' [1]. There are two points standing out which distinguish between wrong information and Fake News: intent and authenticity. [2] Fake News are made up with the intent to harm or damage people or organizations by knowingly creating and spreading verifiably false information. [2]\n",
    "\n",
    "Fake News are not a phenomenon of the digital era - but the rise of Social Media and the possibility to reach people all over the world in a matter of seconds made the spread of Fake News easy as never before. [1] This ambiguity of Social Media to connect people all over the world became more and more challenging with the rise of false information being spread to influence social and political opinions, to divide society and intentionally harm people and organizations. [1] Due to the vast amount of information which is created, shared and spread online every day, the need to distinguish between Fake News and real information has never been greater before. A survey made in 2017 found out that 79% of all participants are worried about fake-news on the internet. [3] Due to the rise of generative artificial intelligence and therefore a much easier to way to even promote fake speeches, videos or else, the percentage of people being concerned about Fake News is most likely to be even higher now. Also in 2017, when Germany had its elections, many Fake News did influence the debate but, luckily, not the outcome of the elections. [4] Now, to determine whether a headline, article, statement, picture or even video is true or fake is becoming more and more difficult. \n",
    "\n",
    "In 2023, a photo of Pope Francis went viral showing him walking in a puffer jacket. [5] This photo was generated using generative AI tool 'Midjourney' and still went viral even though the image showed clear signs of inconsistencies in details. [5] \n",
    "Also, latest example being the newly elected president of the United States, Donald Trump. In a recent campaign debate with Kamala Harris, he claimed that immigrants would eat cats and dogs. [6] For many people this claim might be an obvious example of Fake News. Even the city officials of Springfiled, the city mentioned in Trumps speech, said there have been \"no credible reports\". [6] Still, many people do believe Trump.\n",
    "\n",
    "This spread of misinformation which is accelerated by the internet and the unregulated access to social media contributes to the weakenning of trust in media, politics and society and even widens the gap between people of opposite beliefs as people are more inclined to believe and disseminate information that fits their own view. [1] [2] This confirmation bias contributes to people believing and spreading Fake News and, together with naive realism, can be seen as the psychological foundations of the success of Fake News. [2] \n"
   ]
  },
  {
   "cell_type": "markdown",
   "metadata": {},
   "source": [
    "## Research Question"
   ]
  },
  {
   "cell_type": "markdown",
   "metadata": {},
   "source": [
    "This notebook researches the connection between political statements and sentiments while focusing on building a machine learning model to classify statements as either \"true\" or \"false\" based on the statement itself and possibly other features. The main hypothesis to be validated is \n",
    "whether Fake News prediction can be implemented solely on information about statements and the statements itself as the wording differs between true and false statements.\n",
    "\n",
    "Also Fake News are investigated in terms of sentiment. Is is assumend that a political statement with positive sentiment correlates with a higher chance of being true than a statement of negative sentiment. This assumption is made due to the experience that Fake News are often used to propagate hate, fear and division of society to often benefit a political extreme. The choice of words in those statements are often negatively correlated to evoke the named emotions.\n",
    "\n",
    "The last hypothesis to be made is that the percentage of Fake News is higher on Social Media than any other existing channel. This assumption is based on the anonymity of people in the internet and therefore lower hurdles to express exaggerated extreme political statements and intentionally make up information to promote their own beliefs. "
   ]
  },
  {
   "cell_type": "markdown",
   "metadata": {},
   "source": [
    "## Goal\n",
    "\n",
    "The goal of this project is to train a classification model to predict whether a political statement is true or not. This classification model (further called 'fake-news model') being trained supervised should be able to classify political statements as real or fake. To train the model, the website [POLITIFACT.com](https://www.politifact.com/) is scraped. The scraped data, i.e. the political statements, is already classified into a scale of 'true' or 'false'. The more common and known [LIAR](https://paperswithcode.com/dataset/liar) dataset is then used as test data. \n",
    "\n",
    "A second, pre-trained model (further called 'sentiment model') should classify the sentiment of those statements. The sentiment model should provide classifications of the scraped statements which are then used to further examine the previously stated hypothesis. \n",
    "\n",
    "At the end, the correlation between sentiment and realness of statements is going to be examined to either validate or falsify the hypothesis."
   ]
  },
  {
   "cell_type": "markdown",
   "metadata": {},
   "source": [
    "## Idea and Approaches"
   ]
  },
  {
   "cell_type": "markdown",
   "metadata": {},
   "source": [
    "Text classification can be implemented using different kinds of machine learning models as learned in the course \"Supervised and Unsupervised Learning\". Most common models for text classification are Long Short-Term Memory Neural Networks or Convolutional Neural Networks. By scraping [POLITIFACT.com](https://www.politifact.com/) not only the statements itself shall be retrieved but also meta information like the name of the person making the statement, the channel and date the statement was made on. By further analyzing those features using statistical methods and visualizations and thus getting insights into the correlation with the target \"truth\" which shall be predicted by the fake-news model, the best possible and at the same time least complex model is to be found. Different types and architectures of models shall be examined, evaluated and discussed.\n",
    "\n",
    "This data mining process starts by scraping the data from [POLITIFACT.com](https://www.politifact.com/). The data is then analyszed using primarily visualizations and statistical methods. This helps to understand how the data can be used for training a model and also provide insights on how to process the data for the training process. Understanding the data also helps in extracting relevant features which help to optimize a models performance. After preparing the data for model training, differnt kinds of models are set up and trained. By evaluating each model using the same methods, the best type of model is chosen and further optimized using hyperparameter optimization and feature selection.\n",
    "The trained model is then evaluated by using the [LIAR](https://paperswithcode.com/dataset/liar) dataset. \n",
    "In the last step, the correlation between truth of a statement and sentiment is analysed and discussed."
   ]
  },
  {
   "cell_type": "markdown",
   "metadata": {},
   "source": [
    "# Sources\n",
    "\n",
    "[1] Patel, S., Surati, S. Unmasking Fake News: Navigating the Landscape of Fake News Identification, Challenges and Issues. SN COMPUT. SCI. 5, 932 (2024). https://doi.org/10.1007/s42979-024-03280-8\n",
    "\n",
    "[2] Kai Shu, Amy Sliva, Suhang Wang, Jiliang Tang, and Huan Liu. 2017. Fake News Detection on Social Media: A Data Mining Perspective. SIGKDD Explor. Newsl. 19, 1 (June 2017), 22–36. https://doi.org/10.1145/3137597.3137600\n",
    "\n",
    "[3] Cellan-Jones, R. Fake news worries 'are growing' suggests BBC poll, 2017, https://www.bbc.com/news/technology-41319683\n",
    "\n",
    "[4] Brodnig, I. 7 types of misinformation in the German election, 2017, https://firstdraftnews.org/articles/7-types-german-election/\n",
    "\n",
    "[5] Ellery, S. Fake photos of Pope Francis in a puffer jacket go viral, highlighting the power and peril of AI, 2023, https://www.cbsnews.com/news/pope-francis-puffer-jacket-fake-photos-deepfake-power-peril-of-ai/\n",
    "\n",
    "[6] Thomas, M., Wendling, M. Trump repeats baseless claim about Haitian immigrants eating pets, 2024, https://www.bbc.com/news/articles/c77l28myezko"
   ]
  }
 ],
 "metadata": {
  "language_info": {
   "name": "python"
  }
 },
 "nbformat": 4,
 "nbformat_minor": 2
}
