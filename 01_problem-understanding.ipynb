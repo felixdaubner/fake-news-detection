{
 "cells": [
  {
   "cell_type": "markdown",
   "metadata": {},
   "source": [
    "# Final Project: Fake News Detection\n",
    "\n",
    "By Felix Daubner - Hochschule der Medien\n",
    "\n",
    "Module 'Supervised and Unsupervised Learning' - Prof. Dr.-Ing. Johannes Maucher"
   ]
  },
  {
   "cell_type": "markdown",
   "metadata": {},
   "source": [
    "## Problem Understanding\n",
    "\n",
    "Fake News are defined as 'made-up pieces of information or tales which are published with the goal of misleading readers' [1].\n",
    "Fake News are not a phenomenon of the digital era - but the rise of Social Media and the possibility to reach people all over the world in a matter of seconds made the spread of Fake News easy as never before. [1] The ambiguity of Social Media to connect people all over the world became more and more challenging with the rise of false information being spread to influence social and political opinions, to divide society and intentionally harm people and organizations. [1] Due to the vast amount of information which is created, shared and spread online every day, the need to distinguish between Fake News and real information has never been greater before. \n",
    "\n",
    "Latest example being the newly elected president of the United States, Donald Trump. In a recent campaign debate with Kamala Harris, he claimed that immigrants would eat cats and dogs. This might be a very obvious example of a Fake News statement but there are many examples which do not seem fake on the first sight. This spread of misinformation contributes to the weakenning of trust in media, politics and society and even widens the gap between people of opposite beliefs as people are more inclined to believe and disseminate information that fits their own view. [1]\n"
   ]
  },
  {
   "cell_type": "markdown",
   "metadata": {},
   "source": [
    "## Research Question"
   ]
  },
  {
   "cell_type": "markdown",
   "metadata": {},
   "source": [
    "This notebook researches the connection between political statements and sentiments. The hypothesis to be validated is that a political statement with positive sentiment correlates with a higher realness. This assumption is made due to the experience that Fake News are often used to propagate hate, fear and division of society to often benefit a political extreme. The choice of words in those statements are often negatively correlated to evoke the named emotions."
   ]
  },
  {
   "cell_type": "markdown",
   "metadata": {},
   "source": [
    "## Goal\n",
    "\n",
    "The goal of this project is to train a model which is able to classify political statements as real or fake and at the same time classify the sentiment of those statements. To train the model, the LIAR dataset is used. The trained model should then be applied to recent political statements which are scraped from websites and social media platforms to validate the performance and demonstrate the classification process. At the end, the correlation between sentiment and realness of statements is going to be examined to either validate or falsify the hypothesis."
   ]
  },
  {
   "cell_type": "markdown",
   "metadata": {},
   "source": [
    "## Idea and Approaches"
   ]
  },
  {
   "cell_type": "markdown",
   "metadata": {},
   "source": [
    "HERE COME THE IDEAS AND APPROACHES"
   ]
  },
  {
   "cell_type": "markdown",
   "metadata": {},
   "source": [
    "[1] Patel, S., Surati, S. Unmasking Fake News: Navigating the Landscape of Fake News Identification, Challenges and Issues. SN COMPUT. SCI. 5, 932 (2024). https://doi.org/10.1007/s42979-024-03280-8\n",
    "\n"
   ]
  }
 ],
 "metadata": {
  "language_info": {
   "name": "python"
  }
 },
 "nbformat": 4,
 "nbformat_minor": 2
}
